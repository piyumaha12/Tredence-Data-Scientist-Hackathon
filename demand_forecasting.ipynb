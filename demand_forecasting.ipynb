{
 "cells": [
  {
   "cell_type": "markdown",
   "metadata": {},
   "source": [
    "<p id=\"toc\"></p>\n",
    "\n",
    "<br><br>\n",
    "\n",
    "<h1 style=\"font-family: Verdana; font-size: 24px; font-style: normal; font-weight: bold; text-decoration: none; text-transform: none; letter-spacing: 3px; color: teal; background-color: #ffffff;\">TABLE OF CONTENTS</h1>\n",
    "\n",
    "---\n",
    "\n",
    "<h3 style=\"text-indent: 8vw; font-family: Verdana; font-size: 18px; font-style: normal; font-weight: normal; text-decoration: none; text-transform: none; letter-spacing: 2px; color: navy; background-color: #ffffff;\"><a href=\"#imports\">0&nbsp;&nbsp;&nbsp;&nbsp;IMPORTS</a></h3>\n",
    "\n",
    "---\n",
    "\n",
    "<h3 style=\"text-indent: 8vw; font-family: Verdana; font-size: 18px; font-style: normal; font-weight: normal; text-decoration: none; text-transform: none; letter-spacing: 2px; color: navy; background-color: #ffffff;\"><a href=\"#dataset\">1&nbsp;&nbsp;&nbsp;&nbsp;DATASET</a></h3>\n",
    "\n",
    "---\n",
    "\n",
    "<h3 style=\"text-indent: 8vw; font-family: Verdana; font-size: 18px; font-style: normal; font-weight: normal; text-decoration: none; text-transform: none; letter-spacing: 2px; color: navy; background-color: #ffffff;\"><a href=\"#data_exploration\">2&nbsp;&nbsp;&nbsp;&nbsp;DATA EXPLORATION AND VISUALIZATION</a></h3>\n",
    "\n",
    "<h3 style=\"text-indent: 15vw; font-family: Verdana; font-size: 15px; font-style: normal; font-weight: normal; text-decoration: none; text-transform: none; letter-spacing: 2px; color: navy; background-color: #ffffff;\"><a href=\"#basic_exploration\">2.1&nbsp;&nbsp;&nbsp;&nbsp;Basic Exploration</a></h3>\n",
    "\n",
    "<h3 style=\"text-indent: 15vw; font-family: Verdana; font-size: 15px; font-style: normal; font-weight: normal; text-decoration: none; text-transform: none; letter-spacing: 2px; color: navy; background-color: #ffffff;\"><a href=\"#data_type_check\">2.2&nbsp;&nbsp;&nbsp;&nbsp;Data Type Check</a></h3>\n",
    "\n",
    "<h3 style=\"text-indent: 15vw; font-family: Verdana; font-size: 15px; font-style: normal; font-weight: normal; text-decoration: none; text-transform: none; letter-spacing: 2px; color: navy; background-color: #ffffff;\"><a href=\"#adding_more_information\">2.3&nbsp;&nbsp;&nbsp;&nbsp;Adding More Information</a></h3>\n",
    "\n",
    "<h3 style=\"text-indent: 15vw; font-family: Verdana; font-size: 15px; font-style: normal; font-weight: normal; text-decoration: none; text-transform: none; letter-spacing: 2px; color: navy; background-color: #ffffff;\"><a href=\"#filling_null_values\">2.4&nbsp;&nbsp;&nbsp;&nbsp;Filling Null Values</a></h3>\n",
    "\n",
    "<h3 style=\"text-indent: 15vw; font-family: Verdana; font-size: 15px; font-style: normal; font-weight: normal; text-decoration: none; text-transform: none; letter-spacing: 2px; color: navy; background-color: #ffffff;\"><a href=\"#line_plots\">2.5&nbsp;&nbsp;&nbsp;&nbsp;Line Plots</a></h3>\n",
    "\n",
    "<h3 style=\"text-indent: 15vw; font-family: Verdana; font-size: 15px; font-style: normal; font-weight: normal; text-decoration: none; text-transform: none; letter-spacing: 2px; color: navy; background-color: #ffffff;\"><a href=\"#adding_more_information\">2.6&nbsp;&nbsp;&nbsp;&nbsp;Adding More Information</a></h3>\n",
    "\n",
    "---\n",
    "\n",
    "<h3 style=\"text-indent: 8vw; font-family: Verdana; font-size: 18px; font-style: normal; font-weight: normal; text-decoration: none; text-transform: none; letter-spacing: 2px; color: navy; background-color: #ffffff;\"><a href=\"#helper_functions\">3&nbsp;&nbsp;&nbsp;&nbsp;HELPER FUNCTIONS</a></h3>\n",
    "\n",
    "---\n",
    "\n",
    "<h3 style=\"text-indent: 8vw; font-family: Verdana; font-size: 18px; font-style: normal; font-weight: normal; text-decoration: none; text-transform: none; letter-spacing: 2px; color: navy; background-color: #ffffff;\"><a href=\"#create_dataset\">4&nbsp;&nbsp;&nbsp;&nbsp;DATASET EXPLORATION</a></h3>\n",
    "\n",
    "---\n",
    "\n",
    "<h3 style=\"text-indent: 8vw; font-family: Verdana; font-size: 18px; font-style: normal; font-weight: normal; text-decoration: none; text-transform: none; letter-spacing: 2px; color: navy; background-color: #ffffff;\"><a href=\"#modelling\">5&nbsp;&nbsp;&nbsp;&nbsp;MODELLING</a></h3>\n",
    "\n",
    "---"
   ]
  },
  {
   "cell_type": "markdown",
   "metadata": {},
   "source": [
    "<a id=\"1\"></a>\n",
    "# <span><center style=\"font-family: Verdana; font-size: 36px; font-style: normal; font-weight: bold; text-decoration: none; text-transform: none; letter-spacing: 3px; background-color: #ffffff; color: teal;\" id=\"imports\">0&nbsp;&nbsp;IMPORTS&nbsp;&nbsp;&nbsp;&nbsp;<a href=\"#toc\">&#10514;</a></center></span>"
   ]
  },
  {
   "cell_type": "code",
   "execution_count": 57,
   "metadata": {},
   "outputs": [],
   "source": [
    "import pandas as pd\n",
    "import numpy as np\n",
    "import matplotlib.pyplot as plt\n",
    "import seaborn as sns\n",
    "import plotly.express as px\n",
    "import plotly.graph_objects as go\n",
    "import os\n",
    "import pickle\n",
    "\n",
    "\n",
    "from pandas.tseries.holiday import USFederalHolidayCalendar\n",
    "from pandas.tseries.offsets import CustomBusinessDay\n",
    "from sklearn.preprocessing import MinMaxScaler, StandardScaler, LabelEncoder, OneHotEncoder\n",
    "from sklearn.metrics import mean_absolute_percentage_error, mean_squared_error, mean_absolute_error\n",
    "from sklearn.model_selection import train_test_split, GridSearchCV\n",
    "from sklearn.linear_model import LinearRegression\n",
    "from sklearn.ensemble import AdaBoostRegressor, RandomForestRegressor\n",
    "from sklearn.impute import KNNImputer\n",
    "\n",
    "\n",
    "from statsmodels.formula.api import ols\n",
    "from statsmodels.tsa.holtwinters import Holt, SimpleExpSmoothing, ExponentialSmoothing\n",
    "from statsmodels.tsa.seasonal import seasonal_decompose\n",
    "from statsmodels.graphics.tsaplots import plot_acf, plot_pacf\n",
    "from statsmodels.tsa.arima_model import ARIMA\n",
    "from statsmodels.tsa.statespace.sarimax import SARIMAX\n",
    "from statsmodels.tsa.stattools import adfuller\n",
    "\n",
    "\n",
    "from colorama import Fore\n",
    "\n",
    "y_ = Fore.YELLOW\n",
    "r_ = Fore.RED\n",
    "g_ = Fore.GREEN\n",
    "b_ = Fore.BLUE\n",
    "m_ = Fore.MAGENTA\n",
    "bl_ = Fore.BLACK"
   ]
  },
  {
   "cell_type": "code",
   "execution_count": 58,
   "metadata": {},
   "outputs": [],
   "source": [
    "plt.rcParams['figure.figsize'] = (10,8)"
   ]
  },
  {
   "cell_type": "code",
   "execution_count": 59,
   "metadata": {},
   "outputs": [],
   "source": [
    "class config:\n",
    "    CSV_PATH = 'dataset/'\n",
    "    RANDOM_SEED = 15\n",
    "    train_size = 0.7\n",
    "    test_size = 0.15\n",
    "    validation_size = 0.15"
   ]
  },
  {
   "cell_type": "markdown",
   "metadata": {},
   "source": [
    "<a id=\"2\"></a>\n",
    "# <span><center style=\"font-family: Verdana; font-size: 36px; font-style: normal; font-weight: bold; text-decoration: none; text-transform: none; letter-spacing: 3px; background-color: #ffffff; color: teal;\" id=\"dataset\">1&nbsp;&nbsp;DATASET&nbsp;&nbsp;&nbsp;&nbsp;<a href=\"#toc\">&#10514;</a></center></span>"
   ]
  },
  {
   "cell_type": "code",
   "execution_count": 60,
   "metadata": {},
   "outputs": [
    {
     "data": {
      "text/plain": [
       "['COVID19DistrictWisePositivityAnalysis29April.xlsx',\n",
       " 'sample_submission.csv',\n",
       " 'submission_weekly.csv',\n",
       " 'test.csv',\n",
       " 'train.csv',\n",
       " 'WHO-COVID-19-global-data.csv']"
      ]
     },
     "execution_count": 60,
     "metadata": {},
     "output_type": "execute_result"
    }
   ],
   "source": [
    "os.listdir(config.CSV_PATH)"
   ]
  },
  {
   "cell_type": "code",
   "execution_count": 61,
   "metadata": {},
   "outputs": [],
   "source": [
    "train = pd.read_csv(config.CSV_PATH + 'train.csv' )\n",
    "test = pd.read_csv(config.CSV_PATH + 'test.csv')\n",
    "covid = pd.read_csv(config.CSV_PATH + 'WHO-COVID-19-global-data.csv')"
   ]
  },
  {
   "cell_type": "code",
   "execution_count": 62,
   "metadata": {},
   "outputs": [
    {
     "data": {
      "text/plain": [
       "((16644, 12), (4900, 10), (200976, 8))"
      ]
     },
     "execution_count": 62,
     "metadata": {},
     "output_type": "execute_result"
    }
   ],
   "source": [
    "train.shape, test.shape, covid.shape"
   ]
  },
  {
   "cell_type": "code",
   "execution_count": 63,
   "metadata": {},
   "outputs": [
    {
     "data": {
      "text/html": [
       "<div>\n",
       "<style scoped>\n",
       "    .dataframe tbody tr th:only-of-type {\n",
       "        vertical-align: middle;\n",
       "    }\n",
       "\n",
       "    .dataframe tbody tr th {\n",
       "        vertical-align: top;\n",
       "    }\n",
       "\n",
       "    .dataframe thead th {\n",
       "        text-align: right;\n",
       "    }\n",
       "</style>\n",
       "<table border=\"1\" class=\"dataframe\">\n",
       "  <thead>\n",
       "    <tr style=\"text-align: right;\">\n",
       "      <th></th>\n",
       "      <th>Date_reported</th>\n",
       "      <th>Country_code</th>\n",
       "      <th>Country</th>\n",
       "      <th>WHO_region</th>\n",
       "      <th>New_cases</th>\n",
       "      <th>Cumulative_cases</th>\n",
       "      <th>New_deaths</th>\n",
       "      <th>Cumulative_deaths</th>\n",
       "    </tr>\n",
       "  </thead>\n",
       "  <tbody>\n",
       "    <tr>\n",
       "      <th>0</th>\n",
       "      <td>2020-01-03</td>\n",
       "      <td>AF</td>\n",
       "      <td>Afghanistan</td>\n",
       "      <td>EMRO</td>\n",
       "      <td>0</td>\n",
       "      <td>0</td>\n",
       "      <td>0</td>\n",
       "      <td>0</td>\n",
       "    </tr>\n",
       "    <tr>\n",
       "      <th>1</th>\n",
       "      <td>2020-01-04</td>\n",
       "      <td>AF</td>\n",
       "      <td>Afghanistan</td>\n",
       "      <td>EMRO</td>\n",
       "      <td>0</td>\n",
       "      <td>0</td>\n",
       "      <td>0</td>\n",
       "      <td>0</td>\n",
       "    </tr>\n",
       "    <tr>\n",
       "      <th>2</th>\n",
       "      <td>2020-01-05</td>\n",
       "      <td>AF</td>\n",
       "      <td>Afghanistan</td>\n",
       "      <td>EMRO</td>\n",
       "      <td>0</td>\n",
       "      <td>0</td>\n",
       "      <td>0</td>\n",
       "      <td>0</td>\n",
       "    </tr>\n",
       "    <tr>\n",
       "      <th>3</th>\n",
       "      <td>2020-01-06</td>\n",
       "      <td>AF</td>\n",
       "      <td>Afghanistan</td>\n",
       "      <td>EMRO</td>\n",
       "      <td>0</td>\n",
       "      <td>0</td>\n",
       "      <td>0</td>\n",
       "      <td>0</td>\n",
       "    </tr>\n",
       "    <tr>\n",
       "      <th>4</th>\n",
       "      <td>2020-01-07</td>\n",
       "      <td>AF</td>\n",
       "      <td>Afghanistan</td>\n",
       "      <td>EMRO</td>\n",
       "      <td>0</td>\n",
       "      <td>0</td>\n",
       "      <td>0</td>\n",
       "      <td>0</td>\n",
       "    </tr>\n",
       "  </tbody>\n",
       "</table>\n",
       "</div>"
      ],
      "text/plain": [
       "  Date_reported Country_code      Country WHO_region  New_cases  \\\n",
       "0    2020-01-03           AF  Afghanistan       EMRO          0   \n",
       "1    2020-01-04           AF  Afghanistan       EMRO          0   \n",
       "2    2020-01-05           AF  Afghanistan       EMRO          0   \n",
       "3    2020-01-06           AF  Afghanistan       EMRO          0   \n",
       "4    2020-01-07           AF  Afghanistan       EMRO          0   \n",
       "\n",
       "   Cumulative_cases  New_deaths  Cumulative_deaths  \n",
       "0                 0           0                  0  \n",
       "1                 0           0                  0  \n",
       "2                 0           0                  0  \n",
       "3                 0           0                  0  \n",
       "4                 0           0                  0  "
      ]
     },
     "execution_count": 63,
     "metadata": {},
     "output_type": "execute_result"
    }
   ],
   "source": [
    "covid.head()"
   ]
  },
  {
   "cell_type": "code",
   "execution_count": 64,
   "metadata": {},
   "outputs": [],
   "source": [
    "covid = covid[covid.Country_code == 'US'][['Date_reported', 'New_cases', 'New_deaths']]\n",
    "covid.reset_index(inplace= True, drop = True)"
   ]
  },
  {
   "cell_type": "markdown",
   "metadata": {},
   "source": [
    "- Following Cell calculates that the covid cases are increased on decreased compare to previous_day"
   ]
  },
  {
   "cell_type": "code",
   "execution_count": 65,
   "metadata": {},
   "outputs": [],
   "source": [
    "covid['case_increment']=covid['New_cases'].diff()"
   ]
  },
  {
   "cell_type": "code",
   "execution_count": 66,
   "metadata": {},
   "outputs": [],
   "source": [
    "covid_start = covid.Date_reported[0]"
   ]
  },
  {
   "cell_type": "code",
   "execution_count": 67,
   "metadata": {},
   "outputs": [
    {
     "data": {
      "text/html": [
       "<div>\n",
       "<style scoped>\n",
       "    .dataframe tbody tr th:only-of-type {\n",
       "        vertical-align: middle;\n",
       "    }\n",
       "\n",
       "    .dataframe tbody tr th {\n",
       "        vertical-align: top;\n",
       "    }\n",
       "\n",
       "    .dataframe thead th {\n",
       "        text-align: right;\n",
       "    }\n",
       "</style>\n",
       "<table border=\"1\" class=\"dataframe\">\n",
       "  <thead>\n",
       "    <tr style=\"text-align: right;\">\n",
       "      <th></th>\n",
       "      <th>Date_reported</th>\n",
       "      <th>New_cases</th>\n",
       "      <th>New_deaths</th>\n",
       "      <th>case_increment</th>\n",
       "    </tr>\n",
       "  </thead>\n",
       "  <tbody>\n",
       "    <tr>\n",
       "      <th>0</th>\n",
       "      <td>2020-01-03</td>\n",
       "      <td>0</td>\n",
       "      <td>0</td>\n",
       "      <td>NaN</td>\n",
       "    </tr>\n",
       "    <tr>\n",
       "      <th>1</th>\n",
       "      <td>2020-01-04</td>\n",
       "      <td>0</td>\n",
       "      <td>0</td>\n",
       "      <td>0.0</td>\n",
       "    </tr>\n",
       "    <tr>\n",
       "      <th>2</th>\n",
       "      <td>2020-01-05</td>\n",
       "      <td>0</td>\n",
       "      <td>0</td>\n",
       "      <td>0.0</td>\n",
       "    </tr>\n",
       "    <tr>\n",
       "      <th>3</th>\n",
       "      <td>2020-01-06</td>\n",
       "      <td>0</td>\n",
       "      <td>0</td>\n",
       "      <td>0.0</td>\n",
       "    </tr>\n",
       "    <tr>\n",
       "      <th>4</th>\n",
       "      <td>2020-01-07</td>\n",
       "      <td>0</td>\n",
       "      <td>0</td>\n",
       "      <td>0.0</td>\n",
       "    </tr>\n",
       "  </tbody>\n",
       "</table>\n",
       "</div>"
      ],
      "text/plain": [
       "  Date_reported  New_cases  New_deaths  case_increment\n",
       "0    2020-01-03          0           0             NaN\n",
       "1    2020-01-04          0           0             0.0\n",
       "2    2020-01-05          0           0             0.0\n",
       "3    2020-01-06          0           0             0.0\n",
       "4    2020-01-07          0           0             0.0"
      ]
     },
     "execution_count": 67,
     "metadata": {},
     "output_type": "execute_result"
    }
   ],
   "source": [
    "covid.head()"
   ]
  },
  {
   "cell_type": "markdown",
   "metadata": {},
   "source": [
    "* I am considering United States because the co-ordinates belongs to US."
   ]
  },
  {
   "cell_type": "markdown",
   "metadata": {},
   "source": [
    "<a id=\"3\"></a>\n",
    "# <span><center style=\"font-family: Verdana; font-size: 36px; font-style: normal; font-weight: bold; text-decoration: none; text-transform: none; letter-spacing: 3px; background-color: #ffffff; color: teal;\" id=\"data_exploration\">2&nbsp;&nbsp;DATA EXPLORATION AND VISUALIZATION&nbsp;&nbsp;&nbsp;&nbsp;<a href=\"#toc\">&#10514;</a></center></span>"
   ]
  },
  {
   "cell_type": "markdown",
   "metadata": {},
   "source": [
    "<a id=\"2.1\"></a>\n",
    "## <span style=\"font-family: Verdana; font-size: 30px; font-style: normal; font-weight: bold; text-decoration: none; text-transform: none; letter-spacing: 3px; background-color: #ffffff; color: teal;\" id=\"basic_exploration\">2.1&nbsp;&nbsp;Basic Exploration&nbsp;&nbsp;&nbsp;&nbsp;<a href=\"#toc\">&#10514;</a></center></span>"
   ]
  },
  {
   "cell_type": "code",
   "execution_count": 68,
   "metadata": {},
   "outputs": [
    {
     "data": {
      "text/html": [
       "<div>\n",
       "<style scoped>\n",
       "    .dataframe tbody tr th:only-of-type {\n",
       "        vertical-align: middle;\n",
       "    }\n",
       "\n",
       "    .dataframe tbody tr th {\n",
       "        vertical-align: top;\n",
       "    }\n",
       "\n",
       "    .dataframe thead th {\n",
       "        text-align: right;\n",
       "    }\n",
       "</style>\n",
       "<table border=\"1\" class=\"dataframe\">\n",
       "  <thead>\n",
       "    <tr style=\"text-align: right;\">\n",
       "      <th></th>\n",
       "      <th>ID</th>\n",
       "      <th>date</th>\n",
       "      <th>warehouse_ID</th>\n",
       "      <th>Latitude</th>\n",
       "      <th>Longitude</th>\n",
       "      <th>Product_Type</th>\n",
       "      <th>year</th>\n",
       "      <th>month</th>\n",
       "      <th>is_weekend</th>\n",
       "      <th>is_warehouse_closed</th>\n",
       "      <th>daily_dispatch_count</th>\n",
       "      <th>weekly_dispatch_count</th>\n",
       "    </tr>\n",
       "  </thead>\n",
       "  <tbody>\n",
       "    <tr>\n",
       "      <th>0</th>\n",
       "      <td>0x2710</td>\n",
       "      <td>2017-01-01</td>\n",
       "      <td>WH_0x3e9</td>\n",
       "      <td>41.681471</td>\n",
       "      <td>-72.794746</td>\n",
       "      <td>Type_A</td>\n",
       "      <td>2017</td>\n",
       "      <td>January</td>\n",
       "      <td>Yes</td>\n",
       "      <td>No</td>\n",
       "      <td>5.5</td>\n",
       "      <td>5.5</td>\n",
       "    </tr>\n",
       "    <tr>\n",
       "      <th>1</th>\n",
       "      <td>0x33e6</td>\n",
       "      <td>2017-01-01</td>\n",
       "      <td>WH_0x3ea</td>\n",
       "      <td>38.749077</td>\n",
       "      <td>-105.183060</td>\n",
       "      <td>Type_A</td>\n",
       "      <td>2017</td>\n",
       "      <td>January</td>\n",
       "      <td>Yes</td>\n",
       "      <td>No</td>\n",
       "      <td>6.1</td>\n",
       "      <td>6.1</td>\n",
       "    </tr>\n",
       "    <tr>\n",
       "      <th>2</th>\n",
       "      <td>0x2711</td>\n",
       "      <td>2017-01-02</td>\n",
       "      <td>WH_0x3e9</td>\n",
       "      <td>41.681471</td>\n",
       "      <td>-72.794746</td>\n",
       "      <td>Type_A</td>\n",
       "      <td>2017</td>\n",
       "      <td>January</td>\n",
       "      <td>No</td>\n",
       "      <td>No</td>\n",
       "      <td>4.8</td>\n",
       "      <td>NaN</td>\n",
       "    </tr>\n",
       "    <tr>\n",
       "      <th>3</th>\n",
       "      <td>0x33e7</td>\n",
       "      <td>2017-01-02</td>\n",
       "      <td>WH_0x3ea</td>\n",
       "      <td>38.749077</td>\n",
       "      <td>-105.183060</td>\n",
       "      <td>Type_A</td>\n",
       "      <td>2017</td>\n",
       "      <td>January</td>\n",
       "      <td>No</td>\n",
       "      <td>No</td>\n",
       "      <td>6.7</td>\n",
       "      <td>NaN</td>\n",
       "    </tr>\n",
       "    <tr>\n",
       "      <th>4</th>\n",
       "      <td>0x2712</td>\n",
       "      <td>2017-01-03</td>\n",
       "      <td>WH_0x3e9</td>\n",
       "      <td>41.681471</td>\n",
       "      <td>-72.794746</td>\n",
       "      <td>Type_A</td>\n",
       "      <td>2017</td>\n",
       "      <td>January</td>\n",
       "      <td>No</td>\n",
       "      <td>No</td>\n",
       "      <td>5.8</td>\n",
       "      <td>NaN</td>\n",
       "    </tr>\n",
       "    <tr>\n",
       "      <th>5</th>\n",
       "      <td>0x33e8</td>\n",
       "      <td>2017-01-03</td>\n",
       "      <td>WH_0x3ea</td>\n",
       "      <td>38.749077</td>\n",
       "      <td>-105.183060</td>\n",
       "      <td>Type_A</td>\n",
       "      <td>2017</td>\n",
       "      <td>January</td>\n",
       "      <td>NaN</td>\n",
       "      <td>No</td>\n",
       "      <td>8.1</td>\n",
       "      <td>NaN</td>\n",
       "    </tr>\n",
       "    <tr>\n",
       "      <th>6</th>\n",
       "      <td>0x2713</td>\n",
       "      <td>2017-01-04</td>\n",
       "      <td>WH_0x3e9</td>\n",
       "      <td>41.681471</td>\n",
       "      <td>-72.794746</td>\n",
       "      <td>Type_A</td>\n",
       "      <td>2017</td>\n",
       "      <td>January</td>\n",
       "      <td>No</td>\n",
       "      <td>No</td>\n",
       "      <td>6.6</td>\n",
       "      <td>NaN</td>\n",
       "    </tr>\n",
       "    <tr>\n",
       "      <th>7</th>\n",
       "      <td>0x33e9</td>\n",
       "      <td>2017-01-04</td>\n",
       "      <td>WH_0x3ea</td>\n",
       "      <td>38.749077</td>\n",
       "      <td>-105.183060</td>\n",
       "      <td>Type_A</td>\n",
       "      <td>2017</td>\n",
       "      <td>January</td>\n",
       "      <td>No</td>\n",
       "      <td>No</td>\n",
       "      <td>7.0</td>\n",
       "      <td>NaN</td>\n",
       "    </tr>\n",
       "    <tr>\n",
       "      <th>8</th>\n",
       "      <td>0x2714</td>\n",
       "      <td>2017-01-05</td>\n",
       "      <td>WH_0x3e9</td>\n",
       "      <td>41.681471</td>\n",
       "      <td>-72.794746</td>\n",
       "      <td>Type_A</td>\n",
       "      <td>2017</td>\n",
       "      <td>January</td>\n",
       "      <td>No</td>\n",
       "      <td>No</td>\n",
       "      <td>4.9</td>\n",
       "      <td>NaN</td>\n",
       "    </tr>\n",
       "    <tr>\n",
       "      <th>9</th>\n",
       "      <td>0x33ea</td>\n",
       "      <td>2017-01-05</td>\n",
       "      <td>WH_0x3ea</td>\n",
       "      <td>38.749077</td>\n",
       "      <td>-105.183060</td>\n",
       "      <td>Type_A</td>\n",
       "      <td>2017</td>\n",
       "      <td>January</td>\n",
       "      <td>No</td>\n",
       "      <td>NaN</td>\n",
       "      <td>7.4</td>\n",
       "      <td>NaN</td>\n",
       "    </tr>\n",
       "    <tr>\n",
       "      <th>10</th>\n",
       "      <td>0x2715</td>\n",
       "      <td>2017-01-06</td>\n",
       "      <td>WH_0x3e9</td>\n",
       "      <td>41.681471</td>\n",
       "      <td>-72.794746</td>\n",
       "      <td>Type_A</td>\n",
       "      <td>2017</td>\n",
       "      <td>January</td>\n",
       "      <td>No</td>\n",
       "      <td>No</td>\n",
       "      <td>5.9</td>\n",
       "      <td>NaN</td>\n",
       "    </tr>\n",
       "    <tr>\n",
       "      <th>11</th>\n",
       "      <td>0x33eb</td>\n",
       "      <td>2017-01-06</td>\n",
       "      <td>WH_0x3ea</td>\n",
       "      <td>38.749077</td>\n",
       "      <td>-105.183060</td>\n",
       "      <td>Type_A</td>\n",
       "      <td>2017</td>\n",
       "      <td>January</td>\n",
       "      <td>No</td>\n",
       "      <td>No</td>\n",
       "      <td>7.2</td>\n",
       "      <td>NaN</td>\n",
       "    </tr>\n",
       "    <tr>\n",
       "      <th>12</th>\n",
       "      <td>0x2716</td>\n",
       "      <td>2017-01-07</td>\n",
       "      <td>WH_0x3e9</td>\n",
       "      <td>41.681471</td>\n",
       "      <td>-72.794746</td>\n",
       "      <td>Type_A</td>\n",
       "      <td>2017</td>\n",
       "      <td>January</td>\n",
       "      <td>Yes</td>\n",
       "      <td>No</td>\n",
       "      <td>4.6</td>\n",
       "      <td>NaN</td>\n",
       "    </tr>\n",
       "    <tr>\n",
       "      <th>13</th>\n",
       "      <td>0x33ec</td>\n",
       "      <td>2017-01-07</td>\n",
       "      <td>WH_0x3ea</td>\n",
       "      <td>NaN</td>\n",
       "      <td>-105.183060</td>\n",
       "      <td>Type_A</td>\n",
       "      <td>2017</td>\n",
       "      <td>January</td>\n",
       "      <td>Yes</td>\n",
       "      <td>No</td>\n",
       "      <td>5.4</td>\n",
       "      <td>NaN</td>\n",
       "    </tr>\n",
       "    <tr>\n",
       "      <th>14</th>\n",
       "      <td>0x2717</td>\n",
       "      <td>2017-01-08</td>\n",
       "      <td>WH_0x3e9</td>\n",
       "      <td>41.681471</td>\n",
       "      <td>-72.794746</td>\n",
       "      <td>Type_A</td>\n",
       "      <td>2017</td>\n",
       "      <td>January</td>\n",
       "      <td>Yes</td>\n",
       "      <td>No</td>\n",
       "      <td>4.5</td>\n",
       "      <td>37.1</td>\n",
       "    </tr>\n",
       "    <tr>\n",
       "      <th>15</th>\n",
       "      <td>0x33ed</td>\n",
       "      <td>2017-01-08</td>\n",
       "      <td>WH_0x3ea</td>\n",
       "      <td>38.749077</td>\n",
       "      <td>-105.183060</td>\n",
       "      <td>Type_A</td>\n",
       "      <td>2017</td>\n",
       "      <td>January</td>\n",
       "      <td>Yes</td>\n",
       "      <td>No</td>\n",
       "      <td>6.5</td>\n",
       "      <td>48.3</td>\n",
       "    </tr>\n",
       "  </tbody>\n",
       "</table>\n",
       "</div>"
      ],
      "text/plain": [
       "        ID        date warehouse_ID   Latitude   Longitude Product_Type  year  \\\n",
       "0   0x2710  2017-01-01     WH_0x3e9  41.681471  -72.794746       Type_A  2017   \n",
       "1   0x33e6  2017-01-01     WH_0x3ea  38.749077 -105.183060       Type_A  2017   \n",
       "2   0x2711  2017-01-02     WH_0x3e9  41.681471  -72.794746       Type_A  2017   \n",
       "3   0x33e7  2017-01-02     WH_0x3ea  38.749077 -105.183060       Type_A  2017   \n",
       "4   0x2712  2017-01-03     WH_0x3e9  41.681471  -72.794746       Type_A  2017   \n",
       "5   0x33e8  2017-01-03     WH_0x3ea  38.749077 -105.183060       Type_A  2017   \n",
       "6   0x2713  2017-01-04     WH_0x3e9  41.681471  -72.794746       Type_A  2017   \n",
       "7   0x33e9  2017-01-04     WH_0x3ea  38.749077 -105.183060       Type_A  2017   \n",
       "8   0x2714  2017-01-05     WH_0x3e9  41.681471  -72.794746       Type_A  2017   \n",
       "9   0x33ea  2017-01-05     WH_0x3ea  38.749077 -105.183060       Type_A  2017   \n",
       "10  0x2715  2017-01-06     WH_0x3e9  41.681471  -72.794746       Type_A  2017   \n",
       "11  0x33eb  2017-01-06     WH_0x3ea  38.749077 -105.183060       Type_A  2017   \n",
       "12  0x2716  2017-01-07     WH_0x3e9  41.681471  -72.794746       Type_A  2017   \n",
       "13  0x33ec  2017-01-07     WH_0x3ea        NaN -105.183060       Type_A  2017   \n",
       "14  0x2717  2017-01-08     WH_0x3e9  41.681471  -72.794746       Type_A  2017   \n",
       "15  0x33ed  2017-01-08     WH_0x3ea  38.749077 -105.183060       Type_A  2017   \n",
       "\n",
       "      month is_weekend is_warehouse_closed  daily_dispatch_count  \\\n",
       "0   January        Yes                  No                   5.5   \n",
       "1   January        Yes                  No                   6.1   \n",
       "2   January         No                  No                   4.8   \n",
       "3   January         No                  No                   6.7   \n",
       "4   January         No                  No                   5.8   \n",
       "5   January        NaN                  No                   8.1   \n",
       "6   January         No                  No                   6.6   \n",
       "7   January         No                  No                   7.0   \n",
       "8   January         No                  No                   4.9   \n",
       "9   January         No                 NaN                   7.4   \n",
       "10  January         No                  No                   5.9   \n",
       "11  January         No                  No                   7.2   \n",
       "12  January        Yes                  No                   4.6   \n",
       "13  January        Yes                  No                   5.4   \n",
       "14  January        Yes                  No                   4.5   \n",
       "15  January        Yes                  No                   6.5   \n",
       "\n",
       "    weekly_dispatch_count  \n",
       "0                     5.5  \n",
       "1                     6.1  \n",
       "2                     NaN  \n",
       "3                     NaN  \n",
       "4                     NaN  \n",
       "5                     NaN  \n",
       "6                     NaN  \n",
       "7                     NaN  \n",
       "8                     NaN  \n",
       "9                     NaN  \n",
       "10                    NaN  \n",
       "11                    NaN  \n",
       "12                    NaN  \n",
       "13                    NaN  \n",
       "14                   37.1  \n",
       "15                   48.3  "
      ]
     },
     "execution_count": 68,
     "metadata": {},
     "output_type": "execute_result"
    }
   ],
   "source": [
    "train.head(16)"
   ]
  },
  {
   "cell_type": "code",
   "execution_count": 69,
   "metadata": {},
   "outputs": [
    {
     "data": {
      "text/html": [
       "<div>\n",
       "<style scoped>\n",
       "    .dataframe tbody tr th:only-of-type {\n",
       "        vertical-align: middle;\n",
       "    }\n",
       "\n",
       "    .dataframe tbody tr th {\n",
       "        vertical-align: top;\n",
       "    }\n",
       "\n",
       "    .dataframe thead th {\n",
       "        text-align: right;\n",
       "    }\n",
       "</style>\n",
       "<table border=\"1\" class=\"dataframe\">\n",
       "  <thead>\n",
       "    <tr style=\"text-align: right;\">\n",
       "      <th></th>\n",
       "      <th>ID</th>\n",
       "      <th>date</th>\n",
       "      <th>warehouse_ID</th>\n",
       "      <th>Latitude</th>\n",
       "      <th>Longitude</th>\n",
       "      <th>Product_Type</th>\n",
       "      <th>year</th>\n",
       "      <th>month</th>\n",
       "      <th>is_weekend</th>\n",
       "      <th>is_warehouse_closed</th>\n",
       "      <th>daily_dispatch_count</th>\n",
       "      <th>weekly_dispatch_count</th>\n",
       "    </tr>\n",
       "  </thead>\n",
       "  <tbody>\n",
       "    <tr>\n",
       "      <th>16639</th>\n",
       "      <td>0x6f53</td>\n",
       "      <td>2021-04-30</td>\n",
       "      <td>WH_0x3f0</td>\n",
       "      <td>37.915825</td>\n",
       "      <td>-89.829262</td>\n",
       "      <td>Type_B</td>\n",
       "      <td>2021</td>\n",
       "      <td>April</td>\n",
       "      <td>No</td>\n",
       "      <td>No</td>\n",
       "      <td>0.2</td>\n",
       "      <td>NaN</td>\n",
       "    </tr>\n",
       "    <tr>\n",
       "      <th>16640</th>\n",
       "      <td>0x74c8</td>\n",
       "      <td>2021-04-30</td>\n",
       "      <td>WH_0x3f1</td>\n",
       "      <td>48.692551</td>\n",
       "      <td>-116.319862</td>\n",
       "      <td>Type_A</td>\n",
       "      <td>2021</td>\n",
       "      <td>April</td>\n",
       "      <td>No</td>\n",
       "      <td>No</td>\n",
       "      <td>12.3</td>\n",
       "      <td>NaN</td>\n",
       "    </tr>\n",
       "    <tr>\n",
       "      <th>16641</th>\n",
       "      <td>0x74c9</td>\n",
       "      <td>2021-04-30</td>\n",
       "      <td>WH_0x3f1</td>\n",
       "      <td>48.692551</td>\n",
       "      <td>-116.319862</td>\n",
       "      <td>Type_B</td>\n",
       "      <td>2021</td>\n",
       "      <td>April</td>\n",
       "      <td>No</td>\n",
       "      <td>No</td>\n",
       "      <td>3.3</td>\n",
       "      <td>NaN</td>\n",
       "    </tr>\n",
       "    <tr>\n",
       "      <th>16642</th>\n",
       "      <td>0x794c</td>\n",
       "      <td>2021-04-30</td>\n",
       "      <td>WH_0x3f2</td>\n",
       "      <td>61.600803</td>\n",
       "      <td>-149.125259</td>\n",
       "      <td>Type_A</td>\n",
       "      <td>2021</td>\n",
       "      <td>April</td>\n",
       "      <td>No</td>\n",
       "      <td>No</td>\n",
       "      <td>7.1</td>\n",
       "      <td>NaN</td>\n",
       "    </tr>\n",
       "    <tr>\n",
       "      <th>16643</th>\n",
       "      <td>0x794d</td>\n",
       "      <td>2021-04-30</td>\n",
       "      <td>WH_0x3f2</td>\n",
       "      <td>61.600803</td>\n",
       "      <td>-149.125259</td>\n",
       "      <td>Type_B</td>\n",
       "      <td>2021</td>\n",
       "      <td>April</td>\n",
       "      <td>No</td>\n",
       "      <td>No</td>\n",
       "      <td>3.4</td>\n",
       "      <td>NaN</td>\n",
       "    </tr>\n",
       "  </tbody>\n",
       "</table>\n",
       "</div>"
      ],
      "text/plain": [
       "           ID        date warehouse_ID   Latitude   Longitude Product_Type  \\\n",
       "16639  0x6f53  2021-04-30     WH_0x3f0  37.915825  -89.829262       Type_B   \n",
       "16640  0x74c8  2021-04-30     WH_0x3f1  48.692551 -116.319862       Type_A   \n",
       "16641  0x74c9  2021-04-30     WH_0x3f1  48.692551 -116.319862       Type_B   \n",
       "16642  0x794c  2021-04-30     WH_0x3f2  61.600803 -149.125259       Type_A   \n",
       "16643  0x794d  2021-04-30     WH_0x3f2  61.600803 -149.125259       Type_B   \n",
       "\n",
       "       year  month is_weekend is_warehouse_closed  daily_dispatch_count  \\\n",
       "16639  2021  April         No                  No                   0.2   \n",
       "16640  2021  April         No                  No                  12.3   \n",
       "16641  2021  April         No                  No                   3.3   \n",
       "16642  2021  April         No                  No                   7.1   \n",
       "16643  2021  April         No                  No                   3.4   \n",
       "\n",
       "       weekly_dispatch_count  \n",
       "16639                    NaN  \n",
       "16640                    NaN  \n",
       "16641                    NaN  \n",
       "16642                    NaN  \n",
       "16643                    NaN  "
      ]
     },
     "execution_count": 69,
     "metadata": {},
     "output_type": "execute_result"
    }
   ],
   "source": [
    "train.tail(5)"
   ]
  },
  {
   "cell_type": "code",
   "execution_count": 70,
   "metadata": {},
   "outputs": [
    {
     "data": {
      "text/html": [
       "<div>\n",
       "<style scoped>\n",
       "    .dataframe tbody tr th:only-of-type {\n",
       "        vertical-align: middle;\n",
       "    }\n",
       "\n",
       "    .dataframe tbody tr th {\n",
       "        vertical-align: top;\n",
       "    }\n",
       "\n",
       "    .dataframe thead th {\n",
       "        text-align: right;\n",
       "    }\n",
       "</style>\n",
       "<table border=\"1\" class=\"dataframe\">\n",
       "  <thead>\n",
       "    <tr style=\"text-align: right;\">\n",
       "      <th></th>\n",
       "      <th>ID</th>\n",
       "      <th>date</th>\n",
       "      <th>warehouse_ID</th>\n",
       "      <th>Latitude</th>\n",
       "      <th>Longitude</th>\n",
       "      <th>Product_Type</th>\n",
       "      <th>year</th>\n",
       "      <th>month</th>\n",
       "      <th>is_weekend</th>\n",
       "      <th>is_warehouse_closed</th>\n",
       "    </tr>\n",
       "  </thead>\n",
       "  <tbody>\n",
       "    <tr>\n",
       "      <th>0</th>\n",
       "      <td>0x31fc</td>\n",
       "      <td>2021-05-01</td>\n",
       "      <td>WH_0x3e9</td>\n",
       "      <td>41.681471</td>\n",
       "      <td>NaN</td>\n",
       "      <td>Type_A</td>\n",
       "      <td>2021</td>\n",
       "      <td>May</td>\n",
       "      <td>NaN</td>\n",
       "      <td>No</td>\n",
       "    </tr>\n",
       "    <tr>\n",
       "      <th>1</th>\n",
       "      <td>0x31fd</td>\n",
       "      <td>2021-05-01</td>\n",
       "      <td>WH_0x3e9</td>\n",
       "      <td>41.681471</td>\n",
       "      <td>NaN</td>\n",
       "      <td>Type_B</td>\n",
       "      <td>2021</td>\n",
       "      <td>May</td>\n",
       "      <td>Yes</td>\n",
       "      <td>No</td>\n",
       "    </tr>\n",
       "    <tr>\n",
       "      <th>2</th>\n",
       "      <td>0x3ed2</td>\n",
       "      <td>2021-05-01</td>\n",
       "      <td>WH_0x3ea</td>\n",
       "      <td>38.749077</td>\n",
       "      <td>-105.183060</td>\n",
       "      <td>Type_A</td>\n",
       "      <td>2021</td>\n",
       "      <td>May</td>\n",
       "      <td>Yes</td>\n",
       "      <td>No</td>\n",
       "    </tr>\n",
       "    <tr>\n",
       "      <th>3</th>\n",
       "      <td>0x3ed3</td>\n",
       "      <td>2021-05-01</td>\n",
       "      <td>WH_0x3ea</td>\n",
       "      <td>38.749077</td>\n",
       "      <td>-105.183060</td>\n",
       "      <td>Type_B</td>\n",
       "      <td>2021</td>\n",
       "      <td>May</td>\n",
       "      <td>Yes</td>\n",
       "      <td>No</td>\n",
       "    </tr>\n",
       "    <tr>\n",
       "      <th>4</th>\n",
       "      <td>0x4a3a</td>\n",
       "      <td>2021-05-01</td>\n",
       "      <td>WH_0x3eb</td>\n",
       "      <td>35.678970</td>\n",
       "      <td>-109.067413</td>\n",
       "      <td>Type_A</td>\n",
       "      <td>2021</td>\n",
       "      <td>May</td>\n",
       "      <td>Yes</td>\n",
       "      <td>Yes</td>\n",
       "    </tr>\n",
       "  </tbody>\n",
       "</table>\n",
       "</div>"
      ],
      "text/plain": [
       "       ID        date warehouse_ID   Latitude   Longitude Product_Type  year  \\\n",
       "0  0x31fc  2021-05-01     WH_0x3e9  41.681471         NaN       Type_A  2021   \n",
       "1  0x31fd  2021-05-01     WH_0x3e9  41.681471         NaN       Type_B  2021   \n",
       "2  0x3ed2  2021-05-01     WH_0x3ea  38.749077 -105.183060       Type_A  2021   \n",
       "3  0x3ed3  2021-05-01     WH_0x3ea  38.749077 -105.183060       Type_B  2021   \n",
       "4  0x4a3a  2021-05-01     WH_0x3eb  35.678970 -109.067413       Type_A  2021   \n",
       "\n",
       "  month is_weekend is_warehouse_closed  \n",
       "0   May        NaN                  No  \n",
       "1   May        Yes                  No  \n",
       "2   May        Yes                  No  \n",
       "3   May        Yes                  No  \n",
       "4   May        Yes                 Yes  "
      ]
     },
     "execution_count": 70,
     "metadata": {},
     "output_type": "execute_result"
    }
   ],
   "source": [
    "test.head()"
   ]
  },
  {
   "cell_type": "code",
   "execution_count": 71,
   "metadata": {},
   "outputs": [
    {
     "data": {
      "text/html": [
       "<div>\n",
       "<style scoped>\n",
       "    .dataframe tbody tr th:only-of-type {\n",
       "        vertical-align: middle;\n",
       "    }\n",
       "\n",
       "    .dataframe tbody tr th {\n",
       "        vertical-align: top;\n",
       "    }\n",
       "\n",
       "    .dataframe thead th {\n",
       "        text-align: right;\n",
       "    }\n",
       "</style>\n",
       "<table border=\"1\" class=\"dataframe\">\n",
       "  <thead>\n",
       "    <tr style=\"text-align: right;\">\n",
       "      <th></th>\n",
       "      <th>Latitude</th>\n",
       "      <th>Longitude</th>\n",
       "      <th>year</th>\n",
       "      <th>daily_dispatch_count</th>\n",
       "      <th>weekly_dispatch_count</th>\n",
       "    </tr>\n",
       "  </thead>\n",
       "  <tbody>\n",
       "    <tr>\n",
       "      <th>count</th>\n",
       "      <td>16312.000000</td>\n",
       "      <td>16228.000000</td>\n",
       "      <td>16644.000000</td>\n",
       "      <td>16644.000000</td>\n",
       "      <td>2372.000000</td>\n",
       "    </tr>\n",
       "    <tr>\n",
       "      <th>mean</th>\n",
       "      <td>37.721350</td>\n",
       "      <td>-93.987807</td>\n",
       "      <td>2019.442802</td>\n",
       "      <td>5.042640</td>\n",
       "      <td>35.233938</td>\n",
       "    </tr>\n",
       "    <tr>\n",
       "      <th>std</th>\n",
       "      <td>7.403689</td>\n",
       "      <td>17.907439</td>\n",
       "      <td>1.058141</td>\n",
       "      <td>3.304978</td>\n",
       "      <td>20.953378</td>\n",
       "    </tr>\n",
       "    <tr>\n",
       "      <th>min</th>\n",
       "      <td>25.750156</td>\n",
       "      <td>-149.125259</td>\n",
       "      <td>2017.000000</td>\n",
       "      <td>0.000000</td>\n",
       "      <td>0.000000</td>\n",
       "    </tr>\n",
       "    <tr>\n",
       "      <th>25%</th>\n",
       "      <td>34.361664</td>\n",
       "      <td>-105.183060</td>\n",
       "      <td>2019.000000</td>\n",
       "      <td>2.800000</td>\n",
       "      <td>19.475000</td>\n",
       "    </tr>\n",
       "    <tr>\n",
       "      <th>50%</th>\n",
       "      <td>37.915825</td>\n",
       "      <td>-87.551186</td>\n",
       "      <td>2020.000000</td>\n",
       "      <td>4.400000</td>\n",
       "      <td>30.100000</td>\n",
       "    </tr>\n",
       "    <tr>\n",
       "      <th>75%</th>\n",
       "      <td>41.681471</td>\n",
       "      <td>-80.279640</td>\n",
       "      <td>2020.000000</td>\n",
       "      <td>7.500000</td>\n",
       "      <td>52.000000</td>\n",
       "    </tr>\n",
       "    <tr>\n",
       "      <th>max</th>\n",
       "      <td>61.600803</td>\n",
       "      <td>-72.794746</td>\n",
       "      <td>2021.000000</td>\n",
       "      <td>17.900000</td>\n",
       "      <td>96.400000</td>\n",
       "    </tr>\n",
       "  </tbody>\n",
       "</table>\n",
       "</div>"
      ],
      "text/plain": [
       "           Latitude     Longitude          year  daily_dispatch_count  \\\n",
       "count  16312.000000  16228.000000  16644.000000          16644.000000   \n",
       "mean      37.721350    -93.987807   2019.442802              5.042640   \n",
       "std        7.403689     17.907439      1.058141              3.304978   \n",
       "min       25.750156   -149.125259   2017.000000              0.000000   \n",
       "25%       34.361664   -105.183060   2019.000000              2.800000   \n",
       "50%       37.915825    -87.551186   2020.000000              4.400000   \n",
       "75%       41.681471    -80.279640   2020.000000              7.500000   \n",
       "max       61.600803    -72.794746   2021.000000             17.900000   \n",
       "\n",
       "       weekly_dispatch_count  \n",
       "count            2372.000000  \n",
       "mean               35.233938  \n",
       "std                20.953378  \n",
       "min                 0.000000  \n",
       "25%                19.475000  \n",
       "50%                30.100000  \n",
       "75%                52.000000  \n",
       "max                96.400000  "
      ]
     },
     "execution_count": 71,
     "metadata": {},
     "output_type": "execute_result"
    }
   ],
   "source": [
    "train.describe()"
   ]
  },
  {
   "cell_type": "code",
   "execution_count": 72,
   "metadata": {},
   "outputs": [
    {
     "data": {
      "text/html": [
       "<div>\n",
       "<style scoped>\n",
       "    .dataframe tbody tr th:only-of-type {\n",
       "        vertical-align: middle;\n",
       "    }\n",
       "\n",
       "    .dataframe tbody tr th {\n",
       "        vertical-align: top;\n",
       "    }\n",
       "\n",
       "    .dataframe thead th {\n",
       "        text-align: right;\n",
       "    }\n",
       "</style>\n",
       "<table border=\"1\" class=\"dataframe\">\n",
       "  <thead>\n",
       "    <tr style=\"text-align: right;\">\n",
       "      <th></th>\n",
       "      <th>Latitude</th>\n",
       "      <th>Longitude</th>\n",
       "      <th>year</th>\n",
       "    </tr>\n",
       "  </thead>\n",
       "  <tbody>\n",
       "    <tr>\n",
       "      <th>count</th>\n",
       "      <td>4802.000000</td>\n",
       "      <td>4778.000000</td>\n",
       "      <td>4900.0</td>\n",
       "    </tr>\n",
       "    <tr>\n",
       "      <th>mean</th>\n",
       "      <td>39.646598</td>\n",
       "      <td>-97.958786</td>\n",
       "      <td>2021.0</td>\n",
       "    </tr>\n",
       "    <tr>\n",
       "      <th>std</th>\n",
       "      <td>9.502890</td>\n",
       "      <td>21.543055</td>\n",
       "      <td>0.0</td>\n",
       "    </tr>\n",
       "    <tr>\n",
       "      <th>min</th>\n",
       "      <td>25.750156</td>\n",
       "      <td>-149.125259</td>\n",
       "      <td>2021.0</td>\n",
       "    </tr>\n",
       "    <tr>\n",
       "      <th>25%</th>\n",
       "      <td>34.361664</td>\n",
       "      <td>-109.067413</td>\n",
       "      <td>2021.0</td>\n",
       "    </tr>\n",
       "    <tr>\n",
       "      <th>50%</th>\n",
       "      <td>38.749077</td>\n",
       "      <td>-88.690224</td>\n",
       "      <td>2021.0</td>\n",
       "    </tr>\n",
       "    <tr>\n",
       "      <th>75%</th>\n",
       "      <td>41.681471</td>\n",
       "      <td>-82.648254</td>\n",
       "      <td>2021.0</td>\n",
       "    </tr>\n",
       "    <tr>\n",
       "      <th>max</th>\n",
       "      <td>61.600803</td>\n",
       "      <td>-72.794746</td>\n",
       "      <td>2021.0</td>\n",
       "    </tr>\n",
       "  </tbody>\n",
       "</table>\n",
       "</div>"
      ],
      "text/plain": [
       "          Latitude    Longitude    year\n",
       "count  4802.000000  4778.000000  4900.0\n",
       "mean     39.646598   -97.958786  2021.0\n",
       "std       9.502890    21.543055     0.0\n",
       "min      25.750156  -149.125259  2021.0\n",
       "25%      34.361664  -109.067413  2021.0\n",
       "50%      38.749077   -88.690224  2021.0\n",
       "75%      41.681471   -82.648254  2021.0\n",
       "max      61.600803   -72.794746  2021.0"
      ]
     },
     "execution_count": 72,
     "metadata": {},
     "output_type": "execute_result"
    }
   ],
   "source": [
    "test.describe()"
   ]
  },
  {
   "cell_type": "code",
   "execution_count": 73,
   "metadata": {},
   "outputs": [
    {
     "name": "stdout",
     "output_type": "stream",
     "text": [
      "<class 'pandas.core.frame.DataFrame'>\n",
      "RangeIndex: 16644 entries, 0 to 16643\n",
      "Data columns (total 12 columns):\n",
      " #   Column                 Non-Null Count  Dtype  \n",
      "---  ------                 --------------  -----  \n",
      " 0   ID                     16644 non-null  object \n",
      " 1   date                   16644 non-null  object \n",
      " 2   warehouse_ID           16644 non-null  object \n",
      " 3   Latitude               16312 non-null  float64\n",
      " 4   Longitude              16228 non-null  float64\n",
      " 5   Product_Type           16644 non-null  object \n",
      " 6   year                   16644 non-null  int64  \n",
      " 7   month                  16644 non-null  object \n",
      " 8   is_weekend             16145 non-null  object \n",
      " 9   is_warehouse_closed    16478 non-null  object \n",
      " 10  daily_dispatch_count   16644 non-null  float64\n",
      " 11  weekly_dispatch_count  2372 non-null   float64\n",
      "dtypes: float64(4), int64(1), object(7)\n",
      "memory usage: 1.5+ MB\n"
     ]
    }
   ],
   "source": [
    "train.info()"
   ]
  },
  {
   "cell_type": "code",
   "execution_count": 74,
   "metadata": {},
   "outputs": [
    {
     "data": {
      "text/plain": [
       "ID                           0\n",
       "date                         0\n",
       "warehouse_ID                 0\n",
       "Latitude                   332\n",
       "Longitude                  416\n",
       "Product_Type                 0\n",
       "year                         0\n",
       "month                        0\n",
       "is_weekend                 499\n",
       "is_warehouse_closed        166\n",
       "daily_dispatch_count         0\n",
       "weekly_dispatch_count    14272\n",
       "dtype: int64"
      ]
     },
     "execution_count": 74,
     "metadata": {},
     "output_type": "execute_result"
    }
   ],
   "source": [
    "train.isnull().sum()"
   ]
  },
  {
   "cell_type": "code",
   "execution_count": 75,
   "metadata": {},
   "outputs": [
    {
     "data": {
      "text/plain": [
       "ID                       0\n",
       "date                     0\n",
       "warehouse_ID             0\n",
       "Latitude                98\n",
       "Longitude              122\n",
       "Product_Type             0\n",
       "year                     0\n",
       "month                    0\n",
       "is_weekend             147\n",
       "is_warehouse_closed     49\n",
       "dtype: int64"
      ]
     },
     "execution_count": 75,
     "metadata": {},
     "output_type": "execute_result"
    }
   ],
   "source": [
    "test.isnull().sum()"
   ]
  },
  {
   "cell_type": "code",
   "execution_count": null,
   "metadata": {},
   "outputs": [],
   "source": []
  },
  {
   "cell_type": "markdown",
   "metadata": {},
   "source": [
    "<a id=\"2.2\"></a>\n",
    "## <span style=\"font-family: Verdana; font-size: 30px; font-style: normal; font-weight: bold; text-decoration: none; text-transform: none; letter-spacing: 3px; background-color: #ffffff; color: teal;\" id=\"data_type_check\">2.2&nbsp;&nbsp;Data Type Check&nbsp;&nbsp;&nbsp;&nbsp;<a href=\"#toc\">&#10514;</a></center></span>"
   ]
  },
  {
   "cell_type": "code",
   "execution_count": 76,
   "metadata": {},
   "outputs": [
    {
     "name": "stdout",
     "output_type": "stream",
     "text": [
      "\u001b[33mLet's Check the datatypes of columns \n",
      " \u001b[34m\n",
      "ID                        object\n",
      "date                      object\n",
      "warehouse_ID              object\n",
      "Latitude                 float64\n",
      "Longitude                float64\n",
      "Product_Type              object\n",
      "year                       int64\n",
      "month                     object\n",
      "is_weekend                object\n",
      "is_warehouse_closed       object\n",
      "daily_dispatch_count     float64\n",
      "weekly_dispatch_count    float64\n",
      "dtype: object\n"
     ]
    }
   ],
   "source": [
    "print(f'{y_}Let\\'s Check the datatypes of columns \\n {b_}')\n",
    "print(train.dtypes)"
   ]
  },
  {
   "cell_type": "code",
   "execution_count": 77,
   "metadata": {},
   "outputs": [
    {
     "name": "stdout",
     "output_type": "stream",
     "text": [
      "\u001b[33mLet's Check the datatypes of columns \n",
      " \u001b[34m\n",
      "Date_reported      object\n",
      "New_cases           int64\n",
      "New_deaths          int64\n",
      "case_increment    float64\n",
      "dtype: object\n"
     ]
    }
   ],
   "source": [
    "print(f'{y_}Let\\'s Check the datatypes of columns \\n {b_}')\n",
    "print(covid.dtypes)"
   ]
  },
  {
   "cell_type": "code",
   "execution_count": 78,
   "metadata": {},
   "outputs": [
    {
     "name": "stdout",
     "output_type": "stream",
     "text": [
      "\u001b[33mLet's Check the datatypes of columns \n",
      " \u001b[34m\n",
      "ID                      object\n",
      "date                    object\n",
      "warehouse_ID            object\n",
      "Latitude               float64\n",
      "Longitude              float64\n",
      "Product_Type            object\n",
      "year                     int64\n",
      "month                   object\n",
      "is_weekend              object\n",
      "is_warehouse_closed     object\n",
      "dtype: object\n"
     ]
    }
   ],
   "source": [
    "print(f'{y_}Let\\'s Check the datatypes of columns \\n {b_}')\n",
    "print(test.dtypes)"
   ]
  },
  {
   "cell_type": "markdown",
   "metadata": {},
   "source": [
    "> So we have on error regarding date column, it should be datetime type but it is object type.\n",
    ">\n",
    "> So we need to change it"
   ]
  },
  {
   "cell_type": "code",
   "execution_count": 79,
   "metadata": {},
   "outputs": [],
   "source": [
    "covid = covid.rename({'Date_reported':'date'}, axis= 1)"
   ]
  },
  {
   "cell_type": "code",
   "execution_count": 80,
   "metadata": {},
   "outputs": [],
   "source": [
    "train['date'] = pd.to_datetime(train['date'])\n",
    "covid['date'] = pd.to_datetime(covid['date'])\n",
    "test['date'] = pd.to_datetime(test['date'])"
   ]
  },
  {
   "cell_type": "code",
   "execution_count": 81,
   "metadata": {},
   "outputs": [
    {
     "name": "stdout",
     "output_type": "stream",
     "text": [
      "\u001b[33mLet's Check the datatypes of columns \n",
      " \u001b[34m\n",
      "ID                               object\n",
      "date                     datetime64[ns]\n",
      "warehouse_ID                     object\n",
      "Latitude                        float64\n",
      "Longitude                       float64\n",
      "Product_Type                     object\n",
      "year                              int64\n",
      "month                            object\n",
      "is_weekend                       object\n",
      "is_warehouse_closed              object\n",
      "daily_dispatch_count            float64\n",
      "weekly_dispatch_count           float64\n",
      "dtype: object\n"
     ]
    }
   ],
   "source": [
    "print(f'{y_}Let\\'s Check the datatypes of columns \\n {b_}')\n",
    "print(train.dtypes)"
   ]
  },
  {
   "cell_type": "code",
   "execution_count": 82,
   "metadata": {},
   "outputs": [
    {
     "name": "stdout",
     "output_type": "stream",
     "text": [
      "\u001b[33mLet's Check the datatypes of columns \n",
      " \u001b[34m\n",
      "date              datetime64[ns]\n",
      "New_cases                  int64\n",
      "New_deaths                 int64\n",
      "case_increment           float64\n",
      "dtype: object\n"
     ]
    }
   ],
   "source": [
    "print(f'{y_}Let\\'s Check the datatypes of columns \\n {b_}')\n",
    "print(covid.dtypes)"
   ]
  },
  {
   "cell_type": "markdown",
   "metadata": {},
   "source": [
    "Now the dataset is perfect for adding more information, So let's Add more columns."
   ]
  },
  {
   "cell_type": "markdown",
   "metadata": {},
   "source": [
    "<a id=\"2.3\"></a>\n",
    "## <span style=\"font-family: Verdana; font-size: 30px; font-style: normal; font-weight: bold; text-decoration: none; text-transform: none; letter-spacing: 3px; background-color: #ffffff; color: teal;\" id=\"adding_more_information\">2.3&nbsp;&nbsp;Adding More Information&nbsp;&nbsp;&nbsp;&nbsp;<a href=\"#toc\">&#10514;</a></center></span>"
   ]
  },
  {
   "cell_type": "code",
   "execution_count": 83,
   "metadata": {},
   "outputs": [],
   "source": [
    "def more_information_fun(data_frame, date_col_name = 'date'):\n",
    "    df = data_frame.copy()\n",
    "    df['day_name'] = df[date_col_name].dt.day_name()\n",
    "    df['day_of_week'] = df[date_col_name].dt.dayofweek\n",
    "    df['month_num'] = df[date_col_name].dt.month\n",
    "    start_date = df[date_col_name][0]\n",
    "    end_date = df[date_col_name].iloc[-1]\n",
    "    ushd = CustomBusinessDay(calendar = USFederalHolidayCalendar())\n",
    "    holidays_df = pd.DataFrame(pd.date_range(start=start_date, end = end_date, freq=ushd), columns=['date'])\n",
    "    holidays_df['holiday'] = 'No'\n",
    "    train_with_holiday = pd.merge(left = df, right= holidays_df, on = 'date', how = 'left')\n",
    "    df = pd.merge(left = train_with_holiday, right= covid, on = 'date', how = 'left')\n",
    "    return df\n"
   ]
  },
  {
   "cell_type": "code",
   "execution_count": 84,
   "metadata": {},
   "outputs": [],
   "source": [
    "train_complete = more_information_fun(train)"
   ]
  },
  {
   "cell_type": "code",
   "execution_count": 85,
   "metadata": {},
   "outputs": [],
   "source": [
    "test_complete = more_information_fun(test)"
   ]
  },
  {
   "cell_type": "code",
   "execution_count": 86,
   "metadata": {},
   "outputs": [
    {
     "data": {
      "text/html": [
       "<div>\n",
       "<style scoped>\n",
       "    .dataframe tbody tr th:only-of-type {\n",
       "        vertical-align: middle;\n",
       "    }\n",
       "\n",
       "    .dataframe tbody tr th {\n",
       "        vertical-align: top;\n",
       "    }\n",
       "\n",
       "    .dataframe thead th {\n",
       "        text-align: right;\n",
       "    }\n",
       "</style>\n",
       "<table border=\"1\" class=\"dataframe\">\n",
       "  <thead>\n",
       "    <tr style=\"text-align: right;\">\n",
       "      <th></th>\n",
       "      <th>ID</th>\n",
       "      <th>date</th>\n",
       "      <th>warehouse_ID</th>\n",
       "      <th>Latitude</th>\n",
       "      <th>Longitude</th>\n",
       "      <th>Product_Type</th>\n",
       "      <th>year</th>\n",
       "      <th>month</th>\n",
       "      <th>is_weekend</th>\n",
       "      <th>is_warehouse_closed</th>\n",
       "      <th>day_name</th>\n",
       "      <th>day_of_week</th>\n",
       "      <th>month_num</th>\n",
       "      <th>holiday</th>\n",
       "      <th>New_cases</th>\n",
       "      <th>New_deaths</th>\n",
       "      <th>case_increment</th>\n",
       "    </tr>\n",
       "  </thead>\n",
       "  <tbody>\n",
       "    <tr>\n",
       "      <th>0</th>\n",
       "      <td>0x31fc</td>\n",
       "      <td>2021-05-01</td>\n",
       "      <td>WH_0x3e9</td>\n",
       "      <td>41.681471</td>\n",
       "      <td>NaN</td>\n",
       "      <td>Type_A</td>\n",
       "      <td>2021</td>\n",
       "      <td>May</td>\n",
       "      <td>NaN</td>\n",
       "      <td>No</td>\n",
       "      <td>Saturday</td>\n",
       "      <td>5</td>\n",
       "      <td>5</td>\n",
       "      <td>NaN</td>\n",
       "      <td>55768</td>\n",
       "      <td>758</td>\n",
       "      <td>1220.0</td>\n",
       "    </tr>\n",
       "    <tr>\n",
       "      <th>1</th>\n",
       "      <td>0x31fd</td>\n",
       "      <td>2021-05-01</td>\n",
       "      <td>WH_0x3e9</td>\n",
       "      <td>41.681471</td>\n",
       "      <td>NaN</td>\n",
       "      <td>Type_B</td>\n",
       "      <td>2021</td>\n",
       "      <td>May</td>\n",
       "      <td>Yes</td>\n",
       "      <td>No</td>\n",
       "      <td>Saturday</td>\n",
       "      <td>5</td>\n",
       "      <td>5</td>\n",
       "      <td>NaN</td>\n",
       "      <td>55768</td>\n",
       "      <td>758</td>\n",
       "      <td>1220.0</td>\n",
       "    </tr>\n",
       "    <tr>\n",
       "      <th>2</th>\n",
       "      <td>0x3ed2</td>\n",
       "      <td>2021-05-01</td>\n",
       "      <td>WH_0x3ea</td>\n",
       "      <td>38.749077</td>\n",
       "      <td>-105.183060</td>\n",
       "      <td>Type_A</td>\n",
       "      <td>2021</td>\n",
       "      <td>May</td>\n",
       "      <td>Yes</td>\n",
       "      <td>No</td>\n",
       "      <td>Saturday</td>\n",
       "      <td>5</td>\n",
       "      <td>5</td>\n",
       "      <td>NaN</td>\n",
       "      <td>55768</td>\n",
       "      <td>758</td>\n",
       "      <td>1220.0</td>\n",
       "    </tr>\n",
       "    <tr>\n",
       "      <th>3</th>\n",
       "      <td>0x3ed3</td>\n",
       "      <td>2021-05-01</td>\n",
       "      <td>WH_0x3ea</td>\n",
       "      <td>38.749077</td>\n",
       "      <td>-105.183060</td>\n",
       "      <td>Type_B</td>\n",
       "      <td>2021</td>\n",
       "      <td>May</td>\n",
       "      <td>Yes</td>\n",
       "      <td>No</td>\n",
       "      <td>Saturday</td>\n",
       "      <td>5</td>\n",
       "      <td>5</td>\n",
       "      <td>NaN</td>\n",
       "      <td>55768</td>\n",
       "      <td>758</td>\n",
       "      <td>1220.0</td>\n",
       "    </tr>\n",
       "    <tr>\n",
       "      <th>4</th>\n",
       "      <td>0x4a3a</td>\n",
       "      <td>2021-05-01</td>\n",
       "      <td>WH_0x3eb</td>\n",
       "      <td>35.678970</td>\n",
       "      <td>-109.067413</td>\n",
       "      <td>Type_A</td>\n",
       "      <td>2021</td>\n",
       "      <td>May</td>\n",
       "      <td>Yes</td>\n",
       "      <td>Yes</td>\n",
       "      <td>Saturday</td>\n",
       "      <td>5</td>\n",
       "      <td>5</td>\n",
       "      <td>NaN</td>\n",
       "      <td>55768</td>\n",
       "      <td>758</td>\n",
       "      <td>1220.0</td>\n",
       "    </tr>\n",
       "  </tbody>\n",
       "</table>\n",
       "</div>"
      ],
      "text/plain": [
       "       ID       date warehouse_ID   Latitude   Longitude Product_Type  year  \\\n",
       "0  0x31fc 2021-05-01     WH_0x3e9  41.681471         NaN       Type_A  2021   \n",
       "1  0x31fd 2021-05-01     WH_0x3e9  41.681471         NaN       Type_B  2021   \n",
       "2  0x3ed2 2021-05-01     WH_0x3ea  38.749077 -105.183060       Type_A  2021   \n",
       "3  0x3ed3 2021-05-01     WH_0x3ea  38.749077 -105.183060       Type_B  2021   \n",
       "4  0x4a3a 2021-05-01     WH_0x3eb  35.678970 -109.067413       Type_A  2021   \n",
       "\n",
       "  month is_weekend is_warehouse_closed  day_name  day_of_week  month_num  \\\n",
       "0   May        NaN                  No  Saturday            5          5   \n",
       "1   May        Yes                  No  Saturday            5          5   \n",
       "2   May        Yes                  No  Saturday            5          5   \n",
       "3   May        Yes                  No  Saturday            5          5   \n",
       "4   May        Yes                 Yes  Saturday            5          5   \n",
       "\n",
       "  holiday  New_cases  New_deaths  case_increment  \n",
       "0     NaN      55768         758          1220.0  \n",
       "1     NaN      55768         758          1220.0  \n",
       "2     NaN      55768         758          1220.0  \n",
       "3     NaN      55768         758          1220.0  \n",
       "4     NaN      55768         758          1220.0  "
      ]
     },
     "execution_count": 86,
     "metadata": {},
     "output_type": "execute_result"
    }
   ],
   "source": [
    "test_complete.head()"
   ]
  },
  {
   "cell_type": "code",
   "execution_count": 87,
   "metadata": {},
   "outputs": [
    {
     "data": {
      "text/html": [
       "<div>\n",
       "<style scoped>\n",
       "    .dataframe tbody tr th:only-of-type {\n",
       "        vertical-align: middle;\n",
       "    }\n",
       "\n",
       "    .dataframe tbody tr th {\n",
       "        vertical-align: top;\n",
       "    }\n",
       "\n",
       "    .dataframe thead th {\n",
       "        text-align: right;\n",
       "    }\n",
       "</style>\n",
       "<table border=\"1\" class=\"dataframe\">\n",
       "  <thead>\n",
       "    <tr style=\"text-align: right;\">\n",
       "      <th></th>\n",
       "      <th>ID</th>\n",
       "      <th>date</th>\n",
       "      <th>warehouse_ID</th>\n",
       "      <th>Latitude</th>\n",
       "      <th>Longitude</th>\n",
       "      <th>Product_Type</th>\n",
       "      <th>year</th>\n",
       "      <th>month</th>\n",
       "      <th>is_weekend</th>\n",
       "      <th>is_warehouse_closed</th>\n",
       "      <th>daily_dispatch_count</th>\n",
       "      <th>weekly_dispatch_count</th>\n",
       "      <th>day_name</th>\n",
       "      <th>day_of_week</th>\n",
       "      <th>month_num</th>\n",
       "      <th>holiday</th>\n",
       "      <th>New_cases</th>\n",
       "      <th>New_deaths</th>\n",
       "      <th>case_increment</th>\n",
       "    </tr>\n",
       "  </thead>\n",
       "  <tbody>\n",
       "    <tr>\n",
       "      <th>0</th>\n",
       "      <td>0x2710</td>\n",
       "      <td>2017-01-01</td>\n",
       "      <td>WH_0x3e9</td>\n",
       "      <td>41.681471</td>\n",
       "      <td>-72.794746</td>\n",
       "      <td>Type_A</td>\n",
       "      <td>2017</td>\n",
       "      <td>January</td>\n",
       "      <td>Yes</td>\n",
       "      <td>No</td>\n",
       "      <td>5.5</td>\n",
       "      <td>5.5</td>\n",
       "      <td>Sunday</td>\n",
       "      <td>6</td>\n",
       "      <td>1</td>\n",
       "      <td>NaN</td>\n",
       "      <td>NaN</td>\n",
       "      <td>NaN</td>\n",
       "      <td>NaN</td>\n",
       "    </tr>\n",
       "    <tr>\n",
       "      <th>1</th>\n",
       "      <td>0x33e6</td>\n",
       "      <td>2017-01-01</td>\n",
       "      <td>WH_0x3ea</td>\n",
       "      <td>38.749077</td>\n",
       "      <td>-105.183060</td>\n",
       "      <td>Type_A</td>\n",
       "      <td>2017</td>\n",
       "      <td>January</td>\n",
       "      <td>Yes</td>\n",
       "      <td>No</td>\n",
       "      <td>6.1</td>\n",
       "      <td>6.1</td>\n",
       "      <td>Sunday</td>\n",
       "      <td>6</td>\n",
       "      <td>1</td>\n",
       "      <td>NaN</td>\n",
       "      <td>NaN</td>\n",
       "      <td>NaN</td>\n",
       "      <td>NaN</td>\n",
       "    </tr>\n",
       "    <tr>\n",
       "      <th>2</th>\n",
       "      <td>0x2711</td>\n",
       "      <td>2017-01-02</td>\n",
       "      <td>WH_0x3e9</td>\n",
       "      <td>41.681471</td>\n",
       "      <td>-72.794746</td>\n",
       "      <td>Type_A</td>\n",
       "      <td>2017</td>\n",
       "      <td>January</td>\n",
       "      <td>No</td>\n",
       "      <td>No</td>\n",
       "      <td>4.8</td>\n",
       "      <td>NaN</td>\n",
       "      <td>Monday</td>\n",
       "      <td>0</td>\n",
       "      <td>1</td>\n",
       "      <td>NaN</td>\n",
       "      <td>NaN</td>\n",
       "      <td>NaN</td>\n",
       "      <td>NaN</td>\n",
       "    </tr>\n",
       "    <tr>\n",
       "      <th>3</th>\n",
       "      <td>0x33e7</td>\n",
       "      <td>2017-01-02</td>\n",
       "      <td>WH_0x3ea</td>\n",
       "      <td>38.749077</td>\n",
       "      <td>-105.183060</td>\n",
       "      <td>Type_A</td>\n",
       "      <td>2017</td>\n",
       "      <td>January</td>\n",
       "      <td>No</td>\n",
       "      <td>No</td>\n",
       "      <td>6.7</td>\n",
       "      <td>NaN</td>\n",
       "      <td>Monday</td>\n",
       "      <td>0</td>\n",
       "      <td>1</td>\n",
       "      <td>NaN</td>\n",
       "      <td>NaN</td>\n",
       "      <td>NaN</td>\n",
       "      <td>NaN</td>\n",
       "    </tr>\n",
       "    <tr>\n",
       "      <th>4</th>\n",
       "      <td>0x2712</td>\n",
       "      <td>2017-01-03</td>\n",
       "      <td>WH_0x3e9</td>\n",
       "      <td>41.681471</td>\n",
       "      <td>-72.794746</td>\n",
       "      <td>Type_A</td>\n",
       "      <td>2017</td>\n",
       "      <td>January</td>\n",
       "      <td>No</td>\n",
       "      <td>No</td>\n",
       "      <td>5.8</td>\n",
       "      <td>NaN</td>\n",
       "      <td>Tuesday</td>\n",
       "      <td>1</td>\n",
       "      <td>1</td>\n",
       "      <td>No</td>\n",
       "      <td>NaN</td>\n",
       "      <td>NaN</td>\n",
       "      <td>NaN</td>\n",
       "    </tr>\n",
       "  </tbody>\n",
       "</table>\n",
       "</div>"
      ],
      "text/plain": [
       "       ID       date warehouse_ID   Latitude   Longitude Product_Type  year  \\\n",
       "0  0x2710 2017-01-01     WH_0x3e9  41.681471  -72.794746       Type_A  2017   \n",
       "1  0x33e6 2017-01-01     WH_0x3ea  38.749077 -105.183060       Type_A  2017   \n",
       "2  0x2711 2017-01-02     WH_0x3e9  41.681471  -72.794746       Type_A  2017   \n",
       "3  0x33e7 2017-01-02     WH_0x3ea  38.749077 -105.183060       Type_A  2017   \n",
       "4  0x2712 2017-01-03     WH_0x3e9  41.681471  -72.794746       Type_A  2017   \n",
       "\n",
       "     month is_weekend is_warehouse_closed  daily_dispatch_count  \\\n",
       "0  January        Yes                  No                   5.5   \n",
       "1  January        Yes                  No                   6.1   \n",
       "2  January         No                  No                   4.8   \n",
       "3  January         No                  No                   6.7   \n",
       "4  January         No                  No                   5.8   \n",
       "\n",
       "   weekly_dispatch_count day_name  day_of_week  month_num holiday  New_cases  \\\n",
       "0                    5.5   Sunday            6          1     NaN        NaN   \n",
       "1                    6.1   Sunday            6          1     NaN        NaN   \n",
       "2                    NaN   Monday            0          1     NaN        NaN   \n",
       "3                    NaN   Monday            0          1     NaN        NaN   \n",
       "4                    NaN  Tuesday            1          1      No        NaN   \n",
       "\n",
       "   New_deaths  case_increment  \n",
       "0         NaN             NaN  \n",
       "1         NaN             NaN  \n",
       "2         NaN             NaN  \n",
       "3         NaN             NaN  \n",
       "4         NaN             NaN  "
      ]
     },
     "execution_count": 87,
     "metadata": {},
     "output_type": "execute_result"
    }
   ],
   "source": [
    "train_complete.head()"
   ]
  },
  {
   "cell_type": "code",
   "execution_count": null,
   "metadata": {},
   "outputs": [],
   "source": []
  },
  {
   "cell_type": "markdown",
   "metadata": {},
   "source": [
    "<a id=\"2.4\"></a>\n",
    "## <span style=\"font-family: Verdana; font-size: 30px; font-style: normal; font-weight: bold; text-decoration: none; text-transform: none; letter-spacing: 3px; background-color: #ffffff; color: teal;\" id=\"filling_null_values\">2.4&nbsp;&nbsp;Filling Null Values&nbsp;&nbsp;&nbsp;&nbsp;<a href=\"#toc\">&#10514;</a></center></span>"
   ]
  },
  {
   "cell_type": "markdown",
   "metadata": {},
   "source": [
    "<div class=\"alert alert-block alert-danger\" style=\"margin: 2em; line-height: 1.7em; font-family: Verdana;\">\n",
    "    <b style=\"font-size: 16px;\">🛑 &nbsp; NOTE:</b><br><br>- As We know there are many null values in the dataset and many of them have valid and strong reason. Those missing values can easly be filled.<br>\n",
    "    - Let's Fill them out 😃😃\n",
    "</div>"
   ]
  },
  {
   "cell_type": "code",
   "execution_count": 88,
   "metadata": {},
   "outputs": [
    {
     "data": {
      "text/plain": [
       "Text(0.5, 1.0, 'Testing Dataset')"
      ]
     },
     "execution_count": 88,
     "metadata": {},
     "output_type": "execute_result"
    },
    {
     "data": {
      "image/png": "[encoded data removed]",
      "text/plain": [
       "<Figure size 1080x360 with 4 Axes>"
      ]
     },
     "metadata": {
      "needs_background": "light"
     },
     "output_type": "display_data"
    }
   ],
   "source": [
    "plt.figure(figsize = (15,5))\n",
    "plt.subplot(1,2,1)\n",
    "sns.heatmap(train_complete.isnull())\n",
    "plt.title('Training')\n",
    "\n",
    "plt.subplot(1,2,2)\n",
    "sns.heatmap(test_complete.isnull())\n",
    "plt.title('Testing Dataset')"
   ]
  },
  {
   "cell_type": "markdown",
   "metadata": {},
   "source": [
    "<div class=\"alert alert-block alert-danger\" style=\"margin: 2em; line-height: 1.7em; font-family: Verdana;\">\n",
    "    <b style=\"font-size: 16px;\">✅ &nbsp; Observations:</b><br><br>- There are many Missing values in Covid column because in that period there was zero covid patients (dataset is from 2018 and covid first patient was found in 2020)<br>\n",
    "    - The missing values in Holiday column, corresponds to Holidays in US, so we have to replace them with 'Yes'<br>\n",
    "    - The Missing values in Weekly dispatch Will be replace by Zero. <br>\n",
    "    - Missing values of columns Latitude and Longitude will be replaced with the help of warehouse_id.\n",
    "    - Missing values in is_weekend is easy to replace based on saturday and sunday\n",
    "</div>"
   ]
  },
  {
   "cell_type": "code",
   "execution_count": 89,
   "metadata": {},
   "outputs": [],
   "source": [
    "train_complete['holiday'].fillna('Yes', inplace = True)\n",
    "train_complete['weekly_dispatch_count'].fillna(0, inplace = True)\n",
    "train_complete['New_cases'].fillna(0, inplace = True)\n",
    "train_complete['New_deaths'].fillna(0, inplace= True)\n",
    "train_complete['case_increment'].fillna(0, inplace = True)"
   ]
  },
  {
   "cell_type": "code",
   "execution_count": 90,
   "metadata": {},
   "outputs": [],
   "source": [
    "train_complete.loc[(train_complete['day_of_week'] == 6) | (train_complete['day_of_week'] == 5), 'is_weekend'] = 'Yes'\n",
    "train_complete.loc[(train_complete['day_of_week'] != 6) & (train_complete['day_of_week'] != 5), 'is_weekend'] = 'No'"
   ]
  },
  {
   "cell_type": "code",
   "execution_count": 91,
   "metadata": {},
   "outputs": [],
   "source": [
    "test_complete['holiday'].fillna('Yes', inplace = True)\n",
    "test_complete.loc[(test_complete['day_of_week'] == 6) | (test_complete['day_of_week'] == 5), 'is_weekend'] = 'Yes'\n",
    "test_complete.loc[(test_complete['day_of_week'] != 6) & (test_complete['day_of_week'] != 5), 'is_weekend'] = 'No'"
   ]
  },
  {
   "cell_type": "code",
   "execution_count": null,
   "metadata": {},
   "outputs": [],
   "source": []
  },
  {
   "cell_type": "code",
   "execution_count": 92,
   "metadata": {},
   "outputs": [],
   "source": [
    "T = train_complete.groupby('warehouse_ID').first()"
   ]
  },
  {
   "cell_type": "code",
   "execution_count": 93,
   "metadata": {},
   "outputs": [],
   "source": [
    "for warehouse in T.index:\n",
    "    train_complete.loc[train_complete['warehouse_ID'] == warehouse, ['Latitude', 'Longitude']] = T.loc[warehouse, ['Latitude', 'Longitude']].to_numpy()"
   ]
  },
  {
   "cell_type": "code",
   "execution_count": 94,
   "metadata": {},
   "outputs": [
    {
     "name": "stdout",
     "output_type": "stream",
     "text": [
      "\u001b[30mfor WH_0x3e9 The values are: \u001b[34m (1,) Latitude and Longitude\n",
      "\u001b[30mfor WH_0x3ea The values are: \u001b[34m (1,) Latitude and Longitude\n",
      "\u001b[30mfor WH_0x3eb The values are: \u001b[34m (1,) Latitude and Longitude\n",
      "\u001b[30mfor WH_0x3ec The values are: \u001b[34m (1,) Latitude and Longitude\n",
      "\u001b[30mfor WH_0x3ed The values are: \u001b[34m (1,) Latitude and Longitude\n",
      "\u001b[30mfor WH_0x3ee The values are: \u001b[34m (1,) Latitude and Longitude\n",
      "\u001b[30mfor WH_0x3ef The values are: \u001b[34m (1,) Latitude and Longitude\n",
      "\u001b[30mfor WH_0x3f1 The values are: \u001b[34m (1,) Latitude and Longitude\n",
      "\u001b[30mfor WH_0x3f0 The values are: \u001b[34m (1,) Latitude and Longitude\n",
      "\u001b[30mfor WH_0x3f2 The values are: \u001b[34m (1,) Latitude and Longitude\n"
     ]
    }
   ],
   "source": [
    "for id in train_complete.warehouse_ID.unique():\n",
    "    print(f'{bl_}for {id} The values are: {b_}', train_complete.groupby('warehouse_ID').get_group(id)[['Latitude', 'Longitude']].value_counts().shape, 'Latitude and Longitude')"
   ]
  },
  {
   "cell_type": "code",
   "execution_count": 95,
   "metadata": {},
   "outputs": [],
   "source": [
    "T = test_complete.groupby('warehouse_ID').first()"
   ]
  },
  {
   "cell_type": "code",
   "execution_count": 96,
   "metadata": {},
   "outputs": [],
   "source": [
    "for warehouse in T.index:\n",
    "    test_complete.loc[test_complete['warehouse_ID'] == warehouse, ['Latitude', 'Longitude']] = T.loc[warehouse, ['Latitude', 'Longitude']].to_numpy()"
   ]
  },
  {
   "cell_type": "code",
   "execution_count": 97,
   "metadata": {},
   "outputs": [
    {
     "name": "stdout",
     "output_type": "stream",
     "text": [
      "\u001b[30mfor WH_0x3e9 The values are: \u001b[34m (1,) Latitude and Longitude\n",
      "\u001b[30mfor WH_0x3ea The values are: \u001b[34m (1,) Latitude and Longitude\n",
      "\u001b[30mfor WH_0x3eb The values are: \u001b[34m (1,) Latitude and Longitude\n",
      "\u001b[30mfor WH_0x3ec The values are: \u001b[34m (1,) Latitude and Longitude\n",
      "\u001b[30mfor WH_0x3ed The values are: \u001b[34m (1,) Latitude and Longitude\n",
      "\u001b[30mfor WH_0x3ee The values are: \u001b[34m (1,) Latitude and Longitude\n",
      "\u001b[30mfor WH_0x3ef The values are: \u001b[34m (1,) Latitude and Longitude\n",
      "\u001b[30mfor WH_0x3f0 The values are: \u001b[34m (1,) Latitude and Longitude\n",
      "\u001b[30mfor WH_0x3f1 The values are: \u001b[34m (1,) Latitude and Longitude\n",
      "\u001b[30mfor WH_0x3f2 The values are: \u001b[34m (1,) Latitude and Longitude\n"
     ]
    }
   ],
   "source": [
    "for id in test_complete.warehouse_ID.unique():\n",
    "    print(f'{bl_}for {id} The values are: {b_}', test_complete.groupby('warehouse_ID').get_group(id)[['Latitude', 'Longitude']].value_counts().shape, 'Latitude and Longitude')"
   ]
  },
  {
   "cell_type": "code",
   "execution_count": 98,
   "metadata": {},
   "outputs": [
    {
     "data": {
      "text/plain": [
       "ID                         0\n",
       "date                       0\n",
       "warehouse_ID               0\n",
       "Latitude                   0\n",
       "Longitude                  0\n",
       "Product_Type               0\n",
       "year                       0\n",
       "month                      0\n",
       "is_weekend                 0\n",
       "is_warehouse_closed      166\n",
       "daily_dispatch_count       0\n",
       "weekly_dispatch_count      0\n",
       "day_name                   0\n",
       "day_of_week                0\n",
       "month_num                  0\n",
       "holiday                    0\n",
       "New_cases                  0\n",
       "New_deaths                 0\n",
       "case_increment             0\n",
       "dtype: int64"
      ]
     },
     "execution_count": 98,
     "metadata": {},
     "output_type": "execute_result"
    }
   ],
   "source": [
    "train_complete.isnull().sum()"
   ]
  },
  {
   "cell_type": "code",
   "execution_count": 99,
   "metadata": {},
   "outputs": [
    {
     "data": {
      "text/plain": [
       "ID                      0\n",
       "date                    0\n",
       "warehouse_ID            0\n",
       "Latitude                0\n",
       "Longitude               0\n",
       "Product_Type            0\n",
       "year                    0\n",
       "month                   0\n",
       "is_weekend              0\n",
       "is_warehouse_closed    49\n",
       "day_name                0\n",
       "day_of_week             0\n",
       "month_num               0\n",
       "holiday                 0\n",
       "New_cases               0\n",
       "New_deaths              0\n",
       "case_increment          0\n",
       "dtype: int64"
      ]
     },
     "execution_count": 99,
     "metadata": {},
     "output_type": "execute_result"
    }
   ],
   "source": [
    "test_complete.isnull().sum()"
   ]
  },
  {
   "cell_type": "code",
   "execution_count": 100,
   "metadata": {},
   "outputs": [
    {
     "data": {
      "text/plain": [
       "No     11904\n",
       "Yes     4740\n",
       "Name: is_weekend, dtype: int64"
      ]
     },
     "execution_count": 100,
     "metadata": {},
     "output_type": "execute_result"
    }
   ],
   "source": [
    "train_complete.is_weekend.value_counts()"
   ]
  },
  {
   "cell_type": "code",
   "execution_count": 101,
   "metadata": {},
   "outputs": [
    {
     "data": {
      "text/plain": [
       "No    7493\n",
       "Name: is_warehouse_closed, dtype: int64"
      ]
     },
     "execution_count": 101,
     "metadata": {},
     "output_type": "execute_result"
    }
   ],
   "source": [
    "train_complete[train_complete.date < covid_start]['is_warehouse_closed'].value_counts()"
   ]
  },
  {
   "cell_type": "code",
   "execution_count": 102,
   "metadata": {},
   "outputs": [
    {
     "data": {
      "text/plain": [
       "'2020-01-03'"
      ]
     },
     "execution_count": 102,
     "metadata": {},
     "output_type": "execute_result"
    }
   ],
   "source": [
    "covid_start"
   ]
  },
  {
   "cell_type": "markdown",
   "metadata": {},
   "source": [
    "<div style=\"margin: 2em; line-height: 1.7em; font-family: Verdana;\">\n",
    "    <b style=\"font-size: 16px;\">✅ &nbsp; Observation:</b><br><br>- Now This is more interesting, Before covid the warehouse is almost never closed.<br>\n",
    "    - So, We can fill all null values before covid with 'No'.\n",
    "</div>"
   ]
  },
  {
   "cell_type": "markdown",
   "metadata": {},
   "source": [
    "### Filling Null using manual method"
   ]
  },
  {
   "cell_type": "code",
   "execution_count": null,
   "metadata": {},
   "outputs": [],
   "source": [
    "train_complete.loc[(train_complete.date < covid_start) & (train_complete.is_warehouse_closed.isnull()), 'is_warehouse_closed'] = 'No'"
   ]
  },
  {
   "cell_type": "code",
   "execution_count": 47,
   "metadata": {},
   "outputs": [
    {
     "data": {
      "text/plain": [
       "ID                         0\n",
       "date                       0\n",
       "warehouse_ID               0\n",
       "Latitude                   0\n",
       "Longitude                  0\n",
       "Product_Type               0\n",
       "year                       0\n",
       "month                      0\n",
       "is_weekend                 0\n",
       "is_warehouse_closed      166\n",
       "daily_dispatch_count       0\n",
       "weekly_dispatch_count      0\n",
       "day_name                   0\n",
       "day_of_week                0\n",
       "month_num                  0\n",
       "holiday                    0\n",
       "New_cases                  0\n",
       "New_deaths                 0\n",
       "case_increment             0\n",
       "dtype: int64"
      ]
     },
     "execution_count": 47,
     "metadata": {},
     "output_type": "execute_result"
    }
   ],
   "source": [
    "train_complete.isnull().sum()"
   ]
  },
  {
   "cell_type": "code",
   "execution_count": null,
   "metadata": {},
   "outputs": [],
   "source": [
    "train_complete[train_complete.is_warehouse_closed=='Yes'].head()"
   ]
  },
  {
   "cell_type": "code",
   "execution_count": null,
   "metadata": {},
   "outputs": [],
   "source": [
    "train_complete[(train_complete.daily_dispatch_count != 0) & (train_complete.is_warehouse_closed.isnull())]"
   ]
  },
  {
   "cell_type": "code",
   "execution_count": null,
   "metadata": {},
   "outputs": [],
   "source": [
    "train_complete"
   ]
  },
  {
   "cell_type": "code",
   "execution_count": null,
   "metadata": {},
   "outputs": [],
   "source": []
  },
  {
   "cell_type": "code",
   "execution_count": null,
   "metadata": {},
   "outputs": [],
   "source": []
  },
  {
   "cell_type": "code",
   "execution_count": null,
   "metadata": {},
   "outputs": [],
   "source": [
    "train_complete.loc[train_complete.daily_dispatch_count > 0, 'is_warehouse_closed'] = 'No'\n",
    "train_complete.loc[train_complete.daily_dispatch_count == 0, 'is_warehouse_closed'] = 'Yes'"
   ]
  },
  {
   "cell_type": "code",
   "execution_count": null,
   "metadata": {},
   "outputs": [],
   "source": [
    "train_complete.isnull().sum()"
   ]
  },
  {
   "cell_type": "code",
   "execution_count": null,
   "metadata": {},
   "outputs": [],
   "source": [
    "train_complete[(train_complete.is_weekend=='Yes') & (train_complete.date > '2020-03-21')]"
   ]
  },
  {
   "cell_type": "markdown",
   "metadata": {},
   "source": [
    "### Filling null values using KNNImputation"
   ]
  },
  {
   "cell_type": "code",
   "execution_count": 103,
   "metadata": {},
   "outputs": [],
   "source": [
    "columns_obj=train_complete.columns[train_complete.dtypes == 'object']"
   ]
  },
  {
   "cell_type": "code",
   "execution_count": 104,
   "metadata": {},
   "outputs": [
    {
     "data": {
      "text/html": [
       "<div>\n",
       "<style scoped>\n",
       "    .dataframe tbody tr th:only-of-type {\n",
       "        vertical-align: middle;\n",
       "    }\n",
       "\n",
       "    .dataframe tbody tr th {\n",
       "        vertical-align: top;\n",
       "    }\n",
       "\n",
       "    .dataframe thead th {\n",
       "        text-align: right;\n",
       "    }\n",
       "</style>\n",
       "<table border=\"1\" class=\"dataframe\">\n",
       "  <thead>\n",
       "    <tr style=\"text-align: right;\">\n",
       "      <th></th>\n",
       "      <th>ID</th>\n",
       "      <th>warehouse_ID</th>\n",
       "      <th>Product_Type</th>\n",
       "      <th>month</th>\n",
       "      <th>is_weekend</th>\n",
       "      <th>is_warehouse_closed</th>\n",
       "      <th>day_name</th>\n",
       "      <th>holiday</th>\n",
       "    </tr>\n",
       "  </thead>\n",
       "  <tbody>\n",
       "    <tr>\n",
       "      <th>0</th>\n",
       "      <td>0x2710</td>\n",
       "      <td>WH_0x3e9</td>\n",
       "      <td>Type_A</td>\n",
       "      <td>January</td>\n",
       "      <td>Yes</td>\n",
       "      <td>No</td>\n",
       "      <td>Sunday</td>\n",
       "      <td>Yes</td>\n",
       "    </tr>\n",
       "    <tr>\n",
       "      <th>1</th>\n",
       "      <td>0x33e6</td>\n",
       "      <td>WH_0x3ea</td>\n",
       "      <td>Type_A</td>\n",
       "      <td>January</td>\n",
       "      <td>Yes</td>\n",
       "      <td>No</td>\n",
       "      <td>Sunday</td>\n",
       "      <td>Yes</td>\n",
       "    </tr>\n",
       "    <tr>\n",
       "      <th>2</th>\n",
       "      <td>0x2711</td>\n",
       "      <td>WH_0x3e9</td>\n",
       "      <td>Type_A</td>\n",
       "      <td>January</td>\n",
       "      <td>No</td>\n",
       "      <td>No</td>\n",
       "      <td>Monday</td>\n",
       "      <td>Yes</td>\n",
       "    </tr>\n",
       "    <tr>\n",
       "      <th>3</th>\n",
       "      <td>0x33e7</td>\n",
       "      <td>WH_0x3ea</td>\n",
       "      <td>Type_A</td>\n",
       "      <td>January</td>\n",
       "      <td>No</td>\n",
       "      <td>No</td>\n",
       "      <td>Monday</td>\n",
       "      <td>Yes</td>\n",
       "    </tr>\n",
       "    <tr>\n",
       "      <th>4</th>\n",
       "      <td>0x2712</td>\n",
       "      <td>WH_0x3e9</td>\n",
       "      <td>Type_A</td>\n",
       "      <td>January</td>\n",
       "      <td>No</td>\n",
       "      <td>No</td>\n",
       "      <td>Tuesday</td>\n",
       "      <td>No</td>\n",
       "    </tr>\n",
       "    <tr>\n",
       "      <th>...</th>\n",
       "      <td>...</td>\n",
       "      <td>...</td>\n",
       "      <td>...</td>\n",
       "      <td>...</td>\n",
       "      <td>...</td>\n",
       "      <td>...</td>\n",
       "      <td>...</td>\n",
       "      <td>...</td>\n",
       "    </tr>\n",
       "    <tr>\n",
       "      <th>16639</th>\n",
       "      <td>0x6f53</td>\n",
       "      <td>WH_0x3f0</td>\n",
       "      <td>Type_B</td>\n",
       "      <td>April</td>\n",
       "      <td>No</td>\n",
       "      <td>No</td>\n",
       "      <td>Friday</td>\n",
       "      <td>No</td>\n",
       "    </tr>\n",
       "    <tr>\n",
       "      <th>16640</th>\n",
       "      <td>0x74c8</td>\n",
       "      <td>WH_0x3f1</td>\n",
       "      <td>Type_A</td>\n",
       "      <td>April</td>\n",
       "      <td>No</td>\n",
       "      <td>No</td>\n",
       "      <td>Friday</td>\n",
       "      <td>No</td>\n",
       "    </tr>\n",
       "    <tr>\n",
       "      <th>16641</th>\n",
       "      <td>0x74c9</td>\n",
       "      <td>WH_0x3f1</td>\n",
       "      <td>Type_B</td>\n",
       "      <td>April</td>\n",
       "      <td>No</td>\n",
       "      <td>No</td>\n",
       "      <td>Friday</td>\n",
       "      <td>No</td>\n",
       "    </tr>\n",
       "    <tr>\n",
       "      <th>16642</th>\n",
       "      <td>0x794c</td>\n",
       "      <td>WH_0x3f2</td>\n",
       "      <td>Type_A</td>\n",
       "      <td>April</td>\n",
       "      <td>No</td>\n",
       "      <td>No</td>\n",
       "      <td>Friday</td>\n",
       "      <td>No</td>\n",
       "    </tr>\n",
       "    <tr>\n",
       "      <th>16643</th>\n",
       "      <td>0x794d</td>\n",
       "      <td>WH_0x3f2</td>\n",
       "      <td>Type_B</td>\n",
       "      <td>April</td>\n",
       "      <td>No</td>\n",
       "      <td>No</td>\n",
       "      <td>Friday</td>\n",
       "      <td>No</td>\n",
       "    </tr>\n",
       "  </tbody>\n",
       "</table>\n",
       "<p>16644 rows × 8 columns</p>\n",
       "</div>"
      ],
      "text/plain": [
       "           ID warehouse_ID Product_Type    month is_weekend  \\\n",
       "0      0x2710     WH_0x3e9       Type_A  January        Yes   \n",
       "1      0x33e6     WH_0x3ea       Type_A  January        Yes   \n",
       "2      0x2711     WH_0x3e9       Type_A  January         No   \n",
       "3      0x33e7     WH_0x3ea       Type_A  January         No   \n",
       "4      0x2712     WH_0x3e9       Type_A  January         No   \n",
       "...       ...          ...          ...      ...        ...   \n",
       "16639  0x6f53     WH_0x3f0       Type_B    April         No   \n",
       "16640  0x74c8     WH_0x3f1       Type_A    April         No   \n",
       "16641  0x74c9     WH_0x3f1       Type_B    April         No   \n",
       "16642  0x794c     WH_0x3f2       Type_A    April         No   \n",
       "16643  0x794d     WH_0x3f2       Type_B    April         No   \n",
       "\n",
       "      is_warehouse_closed day_name holiday  \n",
       "0                      No   Sunday     Yes  \n",
       "1                      No   Sunday     Yes  \n",
       "2                      No   Monday     Yes  \n",
       "3                      No   Monday     Yes  \n",
       "4                      No  Tuesday      No  \n",
       "...                   ...      ...     ...  \n",
       "16639                  No   Friday      No  \n",
       "16640                  No   Friday      No  \n",
       "16641                  No   Friday      No  \n",
       "16642                  No   Friday      No  \n",
       "16643                  No   Friday      No  \n",
       "\n",
       "[16644 rows x 8 columns]"
      ]
     },
     "execution_count": 104,
     "metadata": {},
     "output_type": "execute_result"
    }
   ],
   "source": [
    "train_complete[columns_obj]"
   ]
  },
  {
   "cell_type": "code",
   "execution_count": 105,
   "metadata": {},
   "outputs": [],
   "source": [
    "def encoder_fun(dataframe_input, columns = None, dict_obj = None,):\n",
    "    dataframe = dataframe_input.copy()\n",
    "    full_encoding_dict = {}\n",
    "    if columns is None:\n",
    "        columns = dataframe.columns[dataframe.dtypes == 'object']\n",
    "    for i in range(len(columns)):\n",
    "        uniques_obs = dataframe[columns[i]].unique().tolist()\n",
    "        try:\n",
    "            uniques_obs.sort()\n",
    "        except:\n",
    "            pass\n",
    "        encoding_dict = dict(zip(uniques_obs, range(len(uniques_obs))))\n",
    "        dataframe[columns[i]] = dataframe[columns[i]].map(encoding_dict)\n",
    "        print(columns[i])\n",
    "        full_encoding_dict[columns[i]] = encoding_dict\n",
    "    return full_encoding_dict, dataframe"
   ]
  },
  {
   "cell_type": "code",
   "execution_count": null,
   "metadata": {},
   "outputs": [],
   "source": []
  },
  {
   "cell_type": "code",
   "execution_count": 106,
   "metadata": {},
   "outputs": [
    {
     "name": "stdout",
     "output_type": "stream",
     "text": [
      "warehouse_ID\n",
      "Product_Type\n",
      "is_weekend\n",
      "holiday\n"
     ]
    }
   ],
   "source": [
    "encoding_dict, train_complete_encoded = encoder_fun(train_complete,\n",
    "     columns=['warehouse_ID', 'Product_Type', 'is_weekend', 'holiday'])"
   ]
  },
  {
   "cell_type": "code",
   "execution_count": 107,
   "metadata": {},
   "outputs": [
    {
     "data": {
      "text/plain": [
       "{'warehouse_ID': {'WH_0x3e9': 0,\n",
       "  'WH_0x3ea': 1,\n",
       "  'WH_0x3eb': 2,\n",
       "  'WH_0x3ec': 3,\n",
       "  'WH_0x3ed': 4,\n",
       "  'WH_0x3ee': 5,\n",
       "  'WH_0x3ef': 6,\n",
       "  'WH_0x3f0': 7,\n",
       "  'WH_0x3f1': 8,\n",
       "  'WH_0x3f2': 9},\n",
       " 'Product_Type': {'Type_A': 0, 'Type_B': 1},\n",
       " 'is_weekend': {'No': 0, 'Yes': 1},\n",
       " 'holiday': {'No': 0, 'Yes': 1}}"
      ]
     },
     "execution_count": 107,
     "metadata": {},
     "output_type": "execute_result"
    }
   ],
   "source": [
    "encoding_dict"
   ]
  },
  {
   "cell_type": "code",
   "execution_count": 53,
   "metadata": {},
   "outputs": [],
   "source": [
    "# label_encoder = LabelEncoder()\n",
    "# train_complete_encoded['is_warehouse_closed']=label_encoder.fit_transform(train_complete_encoded['is_warehouse_closed'], )"
   ]
  },
  {
   "cell_type": "code",
   "execution_count": 109,
   "metadata": {},
   "outputs": [
    {
     "data": {
      "text/plain": [
       "ID                         0\n",
       "date                       0\n",
       "warehouse_ID               0\n",
       "Latitude                   0\n",
       "Longitude                  0\n",
       "Product_Type               0\n",
       "year                       0\n",
       "month                      0\n",
       "is_weekend                 0\n",
       "is_warehouse_closed      166\n",
       "daily_dispatch_count       0\n",
       "weekly_dispatch_count      0\n",
       "day_name                   0\n",
       "day_of_week                0\n",
       "month_num                  0\n",
       "holiday                    0\n",
       "New_cases                  0\n",
       "New_deaths                 0\n",
       "case_increment             0\n",
       "dtype: int64"
      ]
     },
     "execution_count": 109,
     "metadata": {},
     "output_type": "execute_result"
    }
   ],
   "source": [
    "train_complete_encoded.isnull().sum()"
   ]
  },
  {
   "cell_type": "code",
   "execution_count": 108,
   "metadata": {},
   "outputs": [
    {
     "data": {
      "text/plain": [
       "array(['No', nan, 'Yes'], dtype=object)"
      ]
     },
     "execution_count": 108,
     "metadata": {},
     "output_type": "execute_result"
    }
   ],
   "source": [
    "train_complete_encoded['is_warehouse_closed'].unique()"
   ]
  },
  {
   "cell_type": "code",
   "execution_count": 114,
   "metadata": {},
   "outputs": [],
   "source": [
    "is_warehouse_dict = {'Yes':1, 'No':0}\n",
    "train_complete_encoded['is_warehouse_closed']=train_complete_encoded['is_warehouse_closed'].map(is_warehouse_dict)"
   ]
  },
  {
   "cell_type": "code",
   "execution_count": 117,
   "metadata": {},
   "outputs": [
    {
     "data": {
      "text/plain": [
       "array([ 0., nan,  1.])"
      ]
     },
     "execution_count": 117,
     "metadata": {},
     "output_type": "execute_result"
    }
   ],
   "source": [
    "train_complete_encoded['is_warehouse_closed'].unique()"
   ]
  },
  {
   "cell_type": "code",
   "execution_count": null,
   "metadata": {},
   "outputs": [],
   "source": [
    "train_complete_encoded.head()"
   ]
  },
  {
   "cell_type": "code",
   "execution_count": 128,
   "metadata": {},
   "outputs": [],
   "source": [
    "train_complete_imputer = train_complete_encoded.copy()\n",
    "U = ['warehouse_ID', 'Latitude', \n",
    "    'Longitude', 'Product_Type', 'year', 'is_weekend', 'is_warehouse_closed',\n",
    "    'day_of_week', 'month_num', 'holiday', 'New_cases', 'New_deaths', 'case_increment']\n",
    "knn_inputer = KNNImputer()\n",
    "train_complete_imputer[U] = knn_inputer.fit_transform(train_complete_imputer[U])"
   ]
  },
  {
   "cell_type": "code",
   "execution_count": 129,
   "metadata": {},
   "outputs": [
    {
     "data": {
      "text/plain": [
       "ID                       0\n",
       "date                     0\n",
       "warehouse_ID             0\n",
       "Latitude                 0\n",
       "Longitude                0\n",
       "Product_Type             0\n",
       "year                     0\n",
       "month                    0\n",
       "is_weekend               0\n",
       "is_warehouse_closed      0\n",
       "daily_dispatch_count     0\n",
       "weekly_dispatch_count    0\n",
       "day_name                 0\n",
       "day_of_week              0\n",
       "month_num                0\n",
       "holiday                  0\n",
       "New_cases                0\n",
       "New_deaths               0\n",
       "case_increment           0\n",
       "dtype: int64"
      ]
     },
     "execution_count": 129,
     "metadata": {},
     "output_type": "execute_result"
    }
   ],
   "source": [
    "train_complete_imputer.isnull().sum()"
   ]
  },
  {
   "cell_type": "code",
   "execution_count": null,
   "metadata": {},
   "outputs": [],
   "source": [
    "train_complete_encoded.columns"
   ]
  },
  {
   "cell_type": "markdown",
   "metadata": {},
   "source": [
    "<a id=\"2.5\"></a>\n",
    "## <span style=\"font-family: Verdana; font-size: 30px; font-style: normal; font-weight: bold; text-decoration: none; text-transform: none; letter-spacing: 3px; background-color: #ffffff; color: teal;\" id=\"line_plots\">2.5&nbsp;&nbsp;Line Plots&nbsp;&nbsp;&nbsp;&nbsp;<a href=\"#toc\">&#10514;</a></center></span>"
   ]
  },
  {
   "cell_type": "code",
   "execution_count": null,
   "metadata": {},
   "outputs": [],
   "source": [
    "px.line(data_frame= train, y = 'weekly_dispatch_count', x = 'date')"
   ]
  },
  {
   "cell_type": "code",
   "execution_count": null,
   "metadata": {},
   "outputs": [],
   "source": [
    "train.columns"
   ]
  },
  {
   "cell_type": "code",
   "execution_count": null,
   "metadata": {},
   "outputs": [],
   "source": [
    "px.line(data_frame= train, y = 'daily_dispatch_count', x = 'date', \n",
    "    hover_data= ['warehouse_ID', 'is_weekend'], color = 'warehouse_ID' )"
   ]
  },
  {
   "cell_type": "code",
   "execution_count": null,
   "metadata": {},
   "outputs": [],
   "source": []
  },
  {
   "cell_type": "code",
   "execution_count": null,
   "metadata": {},
   "outputs": [],
   "source": []
  }
 ],
 "metadata": {
  "interpreter": {
   "hash": "f4e04f42c045def5aa7d79311fcd976240163128e37e7a373751b42951a60e82"
  },
  "kernelspec": {
   "display_name": "Python 3.9.7",
   "language": "python",
   "name": "python3"
  },
  "language_info": {
   "codemirror_mode": {
    "name": "ipython",
    "version": 3
   },
   "file_extension": ".py",
   "mimetype": "text/x-python",
   "name": "python",
   "nbconvert_exporter": "python",
   "pygments_lexer": "ipython3",
   "version": "3.9.7"
  },
  "orig_nbformat": 4
 },
 "nbformat": 4,
 "nbformat_minor": 2
}
